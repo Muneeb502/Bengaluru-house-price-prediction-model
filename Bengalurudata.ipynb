{
 "cells": [
  {
   "cell_type": "markdown",
   "id": "72720ad9-ae92-46bf-b47e-2ed239ca4867",
   "metadata": {},
   "source": [
    "# Importing Libararies"
   ]
  },
  {
   "cell_type": "code",
   "execution_count": 108,
   "id": "68e6f464-55a0-4276-9c7f-e7f4bfba0ef2",
   "metadata": {},
   "outputs": [],
   "source": [
    "import pandas as pd\n",
    "import seaborn as sns\n",
    "import matplotlib.pyplot as plt"
   ]
  },
  {
   "cell_type": "markdown",
   "id": "ee1b5e90-c8ae-40d3-862f-ae33a6aacc7c",
   "metadata": {},
   "source": [
    "## reading data "
   ]
  },
  {
   "cell_type": "code",
   "execution_count": 109,
   "id": "3ee66f22-1cb6-49fe-9ca8-d49ea5164dda",
   "metadata": {},
   "outputs": [],
   "source": [
    "data = pd.read_csv(r\"D:\\csvandxlsx files\\Bengaluru_House_Data.csv\")"
   ]
  },
  {
   "cell_type": "code",
   "execution_count": 110,
   "id": "e28cf0e6-6956-45e0-8091-04bf805f874a",
   "metadata": {},
   "outputs": [
    {
     "data": {
      "text/html": [
       "<div>\n",
       "<style scoped>\n",
       "    .dataframe tbody tr th:only-of-type {\n",
       "        vertical-align: middle;\n",
       "    }\n",
       "\n",
       "    .dataframe tbody tr th {\n",
       "        vertical-align: top;\n",
       "    }\n",
       "\n",
       "    .dataframe thead th {\n",
       "        text-align: right;\n",
       "    }\n",
       "</style>\n",
       "<table border=\"1\" class=\"dataframe\">\n",
       "  <thead>\n",
       "    <tr style=\"text-align: right;\">\n",
       "      <th></th>\n",
       "      <th>area_type</th>\n",
       "      <th>availability</th>\n",
       "      <th>location</th>\n",
       "      <th>size</th>\n",
       "      <th>society</th>\n",
       "      <th>total_sqft</th>\n",
       "      <th>bath</th>\n",
       "      <th>balcony</th>\n",
       "      <th>price</th>\n",
       "    </tr>\n",
       "  </thead>\n",
       "  <tbody>\n",
       "    <tr>\n",
       "      <th>0</th>\n",
       "      <td>Super built-up  Area</td>\n",
       "      <td>19-Dec</td>\n",
       "      <td>Electronic City Phase II</td>\n",
       "      <td>2 BHK</td>\n",
       "      <td>Coomee</td>\n",
       "      <td>1056</td>\n",
       "      <td>2.0</td>\n",
       "      <td>1.0</td>\n",
       "      <td>39.07</td>\n",
       "    </tr>\n",
       "    <tr>\n",
       "      <th>1</th>\n",
       "      <td>Plot  Area</td>\n",
       "      <td>Ready To Move</td>\n",
       "      <td>Chikka Tirupathi</td>\n",
       "      <td>4 Bedroom</td>\n",
       "      <td>Theanmp</td>\n",
       "      <td>2600</td>\n",
       "      <td>5.0</td>\n",
       "      <td>3.0</td>\n",
       "      <td>120.00</td>\n",
       "    </tr>\n",
       "    <tr>\n",
       "      <th>2</th>\n",
       "      <td>Built-up  Area</td>\n",
       "      <td>Ready To Move</td>\n",
       "      <td>Uttarahalli</td>\n",
       "      <td>3 BHK</td>\n",
       "      <td>NaN</td>\n",
       "      <td>1440</td>\n",
       "      <td>2.0</td>\n",
       "      <td>3.0</td>\n",
       "      <td>62.00</td>\n",
       "    </tr>\n",
       "    <tr>\n",
       "      <th>3</th>\n",
       "      <td>Super built-up  Area</td>\n",
       "      <td>Ready To Move</td>\n",
       "      <td>Lingadheeranahalli</td>\n",
       "      <td>3 BHK</td>\n",
       "      <td>Soiewre</td>\n",
       "      <td>1521</td>\n",
       "      <td>3.0</td>\n",
       "      <td>1.0</td>\n",
       "      <td>95.00</td>\n",
       "    </tr>\n",
       "    <tr>\n",
       "      <th>4</th>\n",
       "      <td>Super built-up  Area</td>\n",
       "      <td>Ready To Move</td>\n",
       "      <td>Kothanur</td>\n",
       "      <td>2 BHK</td>\n",
       "      <td>NaN</td>\n",
       "      <td>1200</td>\n",
       "      <td>2.0</td>\n",
       "      <td>1.0</td>\n",
       "      <td>51.00</td>\n",
       "    </tr>\n",
       "    <tr>\n",
       "      <th>...</th>\n",
       "      <td>...</td>\n",
       "      <td>...</td>\n",
       "      <td>...</td>\n",
       "      <td>...</td>\n",
       "      <td>...</td>\n",
       "      <td>...</td>\n",
       "      <td>...</td>\n",
       "      <td>...</td>\n",
       "      <td>...</td>\n",
       "    </tr>\n",
       "    <tr>\n",
       "      <th>13315</th>\n",
       "      <td>Built-up  Area</td>\n",
       "      <td>Ready To Move</td>\n",
       "      <td>Whitefield</td>\n",
       "      <td>5 Bedroom</td>\n",
       "      <td>ArsiaEx</td>\n",
       "      <td>3453</td>\n",
       "      <td>4.0</td>\n",
       "      <td>0.0</td>\n",
       "      <td>231.00</td>\n",
       "    </tr>\n",
       "    <tr>\n",
       "      <th>13316</th>\n",
       "      <td>Super built-up  Area</td>\n",
       "      <td>Ready To Move</td>\n",
       "      <td>Richards Town</td>\n",
       "      <td>4 BHK</td>\n",
       "      <td>NaN</td>\n",
       "      <td>3600</td>\n",
       "      <td>5.0</td>\n",
       "      <td>NaN</td>\n",
       "      <td>400.00</td>\n",
       "    </tr>\n",
       "    <tr>\n",
       "      <th>13317</th>\n",
       "      <td>Built-up  Area</td>\n",
       "      <td>Ready To Move</td>\n",
       "      <td>Raja Rajeshwari Nagar</td>\n",
       "      <td>2 BHK</td>\n",
       "      <td>Mahla T</td>\n",
       "      <td>1141</td>\n",
       "      <td>2.0</td>\n",
       "      <td>1.0</td>\n",
       "      <td>60.00</td>\n",
       "    </tr>\n",
       "    <tr>\n",
       "      <th>13318</th>\n",
       "      <td>Super built-up  Area</td>\n",
       "      <td>18-Jun</td>\n",
       "      <td>Padmanabhanagar</td>\n",
       "      <td>4 BHK</td>\n",
       "      <td>SollyCl</td>\n",
       "      <td>4689</td>\n",
       "      <td>4.0</td>\n",
       "      <td>1.0</td>\n",
       "      <td>488.00</td>\n",
       "    </tr>\n",
       "    <tr>\n",
       "      <th>13319</th>\n",
       "      <td>Super built-up  Area</td>\n",
       "      <td>Ready To Move</td>\n",
       "      <td>Doddathoguru</td>\n",
       "      <td>1 BHK</td>\n",
       "      <td>NaN</td>\n",
       "      <td>550</td>\n",
       "      <td>1.0</td>\n",
       "      <td>1.0</td>\n",
       "      <td>17.00</td>\n",
       "    </tr>\n",
       "  </tbody>\n",
       "</table>\n",
       "<p>13320 rows × 9 columns</p>\n",
       "</div>"
      ],
      "text/plain": [
       "                  area_type   availability                  location  \\\n",
       "0      Super built-up  Area         19-Dec  Electronic City Phase II   \n",
       "1                Plot  Area  Ready To Move          Chikka Tirupathi   \n",
       "2            Built-up  Area  Ready To Move               Uttarahalli   \n",
       "3      Super built-up  Area  Ready To Move        Lingadheeranahalli   \n",
       "4      Super built-up  Area  Ready To Move                  Kothanur   \n",
       "...                     ...            ...                       ...   \n",
       "13315        Built-up  Area  Ready To Move                Whitefield   \n",
       "13316  Super built-up  Area  Ready To Move             Richards Town   \n",
       "13317        Built-up  Area  Ready To Move     Raja Rajeshwari Nagar   \n",
       "13318  Super built-up  Area         18-Jun           Padmanabhanagar   \n",
       "13319  Super built-up  Area  Ready To Move              Doddathoguru   \n",
       "\n",
       "            size  society total_sqft  bath  balcony   price  \n",
       "0          2 BHK  Coomee        1056   2.0      1.0   39.07  \n",
       "1      4 Bedroom  Theanmp       2600   5.0      3.0  120.00  \n",
       "2          3 BHK      NaN       1440   2.0      3.0   62.00  \n",
       "3          3 BHK  Soiewre       1521   3.0      1.0   95.00  \n",
       "4          2 BHK      NaN       1200   2.0      1.0   51.00  \n",
       "...          ...      ...        ...   ...      ...     ...  \n",
       "13315  5 Bedroom  ArsiaEx       3453   4.0      0.0  231.00  \n",
       "13316      4 BHK      NaN       3600   5.0      NaN  400.00  \n",
       "13317      2 BHK  Mahla T       1141   2.0      1.0   60.00  \n",
       "13318      4 BHK  SollyCl       4689   4.0      1.0  488.00  \n",
       "13319      1 BHK      NaN        550   1.0      1.0   17.00  \n",
       "\n",
       "[13320 rows x 9 columns]"
      ]
     },
     "execution_count": 110,
     "metadata": {},
     "output_type": "execute_result"
    }
   ],
   "source": [
    "data"
   ]
  },
  {
   "cell_type": "markdown",
   "id": "1c45a514-375b-4e03-904e-a3a927eb0142",
   "metadata": {},
   "source": [
    "## cheacking shape of data"
   ]
  },
  {
   "cell_type": "code",
   "execution_count": 111,
   "id": "774abcc6-76c7-4a86-894e-dd35d70b8532",
   "metadata": {},
   "outputs": [
    {
     "data": {
      "text/plain": [
       "(13320, 9)"
      ]
     },
     "execution_count": 111,
     "metadata": {},
     "output_type": "execute_result"
    }
   ],
   "source": [
    "data.shape"
   ]
  },
  {
   "cell_type": "code",
   "execution_count": 112,
   "id": "df3d3936-140a-4267-81b6-6532e7748ebf",
   "metadata": {},
   "outputs": [
    {
     "name": "stdout",
     "output_type": "stream",
     "text": [
      "<class 'pandas.core.frame.DataFrame'>\n",
      "RangeIndex: 13320 entries, 0 to 13319\n",
      "Data columns (total 9 columns):\n",
      " #   Column        Non-Null Count  Dtype  \n",
      "---  ------        --------------  -----  \n",
      " 0   area_type     13320 non-null  object \n",
      " 1   availability  13320 non-null  object \n",
      " 2   location      13319 non-null  object \n",
      " 3   size          13304 non-null  object \n",
      " 4   society       7818 non-null   object \n",
      " 5   total_sqft    13320 non-null  object \n",
      " 6   bath          13247 non-null  float64\n",
      " 7   balcony       12711 non-null  float64\n",
      " 8   price         13320 non-null  float64\n",
      "dtypes: float64(3), object(6)\n",
      "memory usage: 936.7+ KB\n"
     ]
    }
   ],
   "source": [
    "data.info()"
   ]
  },
  {
   "cell_type": "markdown",
   "id": "3217c778-8166-49da-8786-2df7a9eba590",
   "metadata": {},
   "source": [
    "## finding total null values in data "
   ]
  },
  {
   "cell_type": "code",
   "execution_count": 113,
   "id": "0a0446c9-5d54-4248-baf6-fbf192a5e8ed",
   "metadata": {},
   "outputs": [
    {
     "data": {
      "text/plain": [
       "area_type          0\n",
       "availability       0\n",
       "location           1\n",
       "size              16\n",
       "society         5502\n",
       "total_sqft         0\n",
       "bath              73\n",
       "balcony          609\n",
       "price              0\n",
       "dtype: int64"
      ]
     },
     "execution_count": 113,
     "metadata": {},
     "output_type": "execute_result"
    }
   ],
   "source": [
    "data.isnull().sum()"
   ]
  },
  {
   "cell_type": "markdown",
   "id": "9af6d645-f5df-4b8d-bde6-a1bc54f850f8",
   "metadata": {},
   "source": [
    "### finding total percentage of null values in each columns"
   ]
  },
  {
   "cell_type": "code",
   "execution_count": 114,
   "id": "17fdba58-c731-4b5a-b5f6-35c29a9375af",
   "metadata": {},
   "outputs": [
    {
     "data": {
      "text/plain": [
       "area_type        0.000000\n",
       "availability     0.000000\n",
       "location         0.007508\n",
       "size             0.120120\n",
       "society         41.306306\n",
       "total_sqft       0.000000\n",
       "bath             0.548048\n",
       "balcony          4.572072\n",
       "price            0.000000\n",
       "dtype: float64"
      ]
     },
     "execution_count": 114,
     "metadata": {},
     "output_type": "execute_result"
    }
   ],
   "source": [
    "(data.isnull().sum()/data.shape[0])*100"
   ]
  },
  {
   "cell_type": "markdown",
   "id": "cd5c225c-d97d-4ff6-a36c-bee9a3c2aa2a",
   "metadata": {},
   "source": [
    "## finding overall null vlues in dataset"
   ]
  },
  {
   "cell_type": "code",
   "execution_count": 115,
   "id": "d3490bfe-b227-4364-92a0-231b9e9ed58d",
   "metadata": {},
   "outputs": [
    {
     "data": {
      "text/plain": [
       "6201"
      ]
     },
     "execution_count": 115,
     "metadata": {},
     "output_type": "execute_result"
    }
   ],
   "source": [
    "data.isnull().sum().sum()"
   ]
  },
  {
   "cell_type": "markdown",
   "id": "5badd3c5-29e8-46cb-bb47-09a33528688d",
   "metadata": {},
   "source": [
    "### finding percentage of total null vlues"
   ]
  },
  {
   "cell_type": "code",
   "execution_count": 116,
   "id": "1968f0af-559b-4d81-9595-34cffb3fbfd8",
   "metadata": {},
   "outputs": [
    {
     "data": {
      "text/plain": [
       "5.172672672672673"
      ]
     },
     "execution_count": 116,
     "metadata": {},
     "output_type": "execute_result"
    }
   ],
   "source": [
    "(data.isnull().sum().sum()/(data.shape[0]*data.shape[1]))*100"
   ]
  },
  {
   "cell_type": "markdown",
   "id": "d6112ce5-356e-4949-a3de-778817f28f6d",
   "metadata": {},
   "source": [
    "# ploting graph of null vlues using seaborn "
   ]
  },
  {
   "cell_type": "code",
   "execution_count": 117,
   "id": "e2b80cc6-22bd-4c79-b3ab-b8a37088d7dc",
   "metadata": {},
   "outputs": [
    {
     "data": {
      "image/png": "[encoded data removed]",
      "text/plain": [
       "<Figure size 640x480 with 2 Axes>"
      ]
     },
     "metadata": {},
     "output_type": "display_data"
    }
   ],
   "source": [
    "sns.heatmap(data.isnull())\n",
    "plt.show()"
   ]
  },
  {
   "cell_type": "markdown",
   "id": "4da7e620-e7b3-4fc9-9576-3e64c46aae4e",
   "metadata": {},
   "source": [
    "# deleting null values"
   ]
  },
  {
   "cell_type": "code",
   "execution_count": 118,
   "id": "c3a5f232-fd48-4811-970a-8249f201765b",
   "metadata": {},
   "outputs": [],
   "source": [
    "#drop function will remove data by columns wise \n",
    "# inthis i am going to remove column ( society )\n",
    "data.drop(columns=[\"society\"] , inplace=True)"
   ]
  },
  {
   "cell_type": "code",
   "execution_count": 119,
   "id": "dd46a659-9269-428e-9c3c-6fe440777155",
   "metadata": {},
   "outputs": [
    {
     "data": {
      "text/html": [
       "<div>\n",
       "<style scoped>\n",
       "    .dataframe tbody tr th:only-of-type {\n",
       "        vertical-align: middle;\n",
       "    }\n",
       "\n",
       "    .dataframe tbody tr th {\n",
       "        vertical-align: top;\n",
       "    }\n",
       "\n",
       "    .dataframe thead th {\n",
       "        text-align: right;\n",
       "    }\n",
       "</style>\n",
       "<table border=\"1\" class=\"dataframe\">\n",
       "  <thead>\n",
       "    <tr style=\"text-align: right;\">\n",
       "      <th></th>\n",
       "      <th>area_type</th>\n",
       "      <th>availability</th>\n",
       "      <th>location</th>\n",
       "      <th>size</th>\n",
       "      <th>total_sqft</th>\n",
       "      <th>bath</th>\n",
       "      <th>balcony</th>\n",
       "      <th>price</th>\n",
       "    </tr>\n",
       "  </thead>\n",
       "  <tbody>\n",
       "    <tr>\n",
       "      <th>0</th>\n",
       "      <td>Super built-up  Area</td>\n",
       "      <td>19-Dec</td>\n",
       "      <td>Electronic City Phase II</td>\n",
       "      <td>2 BHK</td>\n",
       "      <td>1056</td>\n",
       "      <td>2.0</td>\n",
       "      <td>1.0</td>\n",
       "      <td>39.07</td>\n",
       "    </tr>\n",
       "    <tr>\n",
       "      <th>1</th>\n",
       "      <td>Plot  Area</td>\n",
       "      <td>Ready To Move</td>\n",
       "      <td>Chikka Tirupathi</td>\n",
       "      <td>4 Bedroom</td>\n",
       "      <td>2600</td>\n",
       "      <td>5.0</td>\n",
       "      <td>3.0</td>\n",
       "      <td>120.00</td>\n",
       "    </tr>\n",
       "    <tr>\n",
       "      <th>2</th>\n",
       "      <td>Built-up  Area</td>\n",
       "      <td>Ready To Move</td>\n",
       "      <td>Uttarahalli</td>\n",
       "      <td>3 BHK</td>\n",
       "      <td>1440</td>\n",
       "      <td>2.0</td>\n",
       "      <td>3.0</td>\n",
       "      <td>62.00</td>\n",
       "    </tr>\n",
       "    <tr>\n",
       "      <th>3</th>\n",
       "      <td>Super built-up  Area</td>\n",
       "      <td>Ready To Move</td>\n",
       "      <td>Lingadheeranahalli</td>\n",
       "      <td>3 BHK</td>\n",
       "      <td>1521</td>\n",
       "      <td>3.0</td>\n",
       "      <td>1.0</td>\n",
       "      <td>95.00</td>\n",
       "    </tr>\n",
       "    <tr>\n",
       "      <th>4</th>\n",
       "      <td>Super built-up  Area</td>\n",
       "      <td>Ready To Move</td>\n",
       "      <td>Kothanur</td>\n",
       "      <td>2 BHK</td>\n",
       "      <td>1200</td>\n",
       "      <td>2.0</td>\n",
       "      <td>1.0</td>\n",
       "      <td>51.00</td>\n",
       "    </tr>\n",
       "  </tbody>\n",
       "</table>\n",
       "</div>"
      ],
      "text/plain": [
       "              area_type   availability                  location       size  \\\n",
       "0  Super built-up  Area         19-Dec  Electronic City Phase II      2 BHK   \n",
       "1            Plot  Area  Ready To Move          Chikka Tirupathi  4 Bedroom   \n",
       "2        Built-up  Area  Ready To Move               Uttarahalli      3 BHK   \n",
       "3  Super built-up  Area  Ready To Move        Lingadheeranahalli      3 BHK   \n",
       "4  Super built-up  Area  Ready To Move                  Kothanur      2 BHK   \n",
       "\n",
       "  total_sqft  bath  balcony   price  \n",
       "0       1056   2.0      1.0   39.07  \n",
       "1       2600   5.0      3.0  120.00  \n",
       "2       1440   2.0      3.0   62.00  \n",
       "3       1521   3.0      1.0   95.00  \n",
       "4       1200   2.0      1.0   51.00  "
      ]
     },
     "execution_count": 119,
     "metadata": {},
     "output_type": "execute_result"
    }
   ],
   "source": [
    "data.head()"
   ]
  },
  {
   "cell_type": "code",
   "execution_count": 120,
   "id": "58957783-216d-4668-8323-f5e7df6a9da9",
   "metadata": {},
   "outputs": [
    {
     "data": {
      "text/plain": [
       "area_type         0\n",
       "availability      0\n",
       "location          1\n",
       "size             16\n",
       "total_sqft        0\n",
       "bath             73\n",
       "balcony         609\n",
       "price             0\n",
       "dtype: int64"
      ]
     },
     "execution_count": 120,
     "metadata": {},
     "output_type": "execute_result"
    }
   ],
   "source": [
    "#checking\n",
    "data.isnull().sum()"
   ]
  },
  {
   "cell_type": "code",
   "execution_count": 121,
   "id": "bd201dbf-e5dd-4f9c-8232-e14d4c52d45d",
   "metadata": {},
   "outputs": [],
   "source": [
    "#dropna function will remove all null raws"
   ]
  },
  {
   "cell_type": "code",
   "execution_count": 122,
   "id": "5090ec1a-9d30-480c-bb88-89a53f5a5de8",
   "metadata": {},
   "outputs": [],
   "source": [
    "#data.dropna(inplacr=True)"
   ]
  },
  {
   "cell_type": "code",
   "execution_count": 123,
   "id": "cd6b69aa-4061-4d0b-81db-c4e26b507b10",
   "metadata": {},
   "outputs": [],
   "source": [
    "# so now working in each columns"
   ]
  },
  {
   "cell_type": "markdown",
   "id": "4a6bfcfb-dde7-43d3-b19e-190ba33a5731",
   "metadata": {},
   "source": [
    "# area_type\tcolumn"
   ]
  },
  {
   "cell_type": "code",
   "execution_count": 124,
   "id": "4d032f91-2b9b-4d78-957c-ecfcb313d131",
   "metadata": {},
   "outputs": [
    {
     "data": {
      "text/html": [
       "<div>\n",
       "<style scoped>\n",
       "    .dataframe tbody tr th:only-of-type {\n",
       "        vertical-align: middle;\n",
       "    }\n",
       "\n",
       "    .dataframe tbody tr th {\n",
       "        vertical-align: top;\n",
       "    }\n",
       "\n",
       "    .dataframe thead th {\n",
       "        text-align: right;\n",
       "    }\n",
       "</style>\n",
       "<table border=\"1\" class=\"dataframe\">\n",
       "  <thead>\n",
       "    <tr style=\"text-align: right;\">\n",
       "      <th></th>\n",
       "      <th>area_type</th>\n",
       "      <th>availability</th>\n",
       "      <th>location</th>\n",
       "      <th>size</th>\n",
       "      <th>total_sqft</th>\n",
       "      <th>bath</th>\n",
       "      <th>balcony</th>\n",
       "      <th>price</th>\n",
       "    </tr>\n",
       "  </thead>\n",
       "  <tbody>\n",
       "    <tr>\n",
       "      <th>0</th>\n",
       "      <td>Super built-up  Area</td>\n",
       "      <td>19-Dec</td>\n",
       "      <td>Electronic City Phase II</td>\n",
       "      <td>2 BHK</td>\n",
       "      <td>1056</td>\n",
       "      <td>2.0</td>\n",
       "      <td>1.0</td>\n",
       "      <td>39.07</td>\n",
       "    </tr>\n",
       "    <tr>\n",
       "      <th>1</th>\n",
       "      <td>Plot  Area</td>\n",
       "      <td>Ready To Move</td>\n",
       "      <td>Chikka Tirupathi</td>\n",
       "      <td>4 Bedroom</td>\n",
       "      <td>2600</td>\n",
       "      <td>5.0</td>\n",
       "      <td>3.0</td>\n",
       "      <td>120.00</td>\n",
       "    </tr>\n",
       "  </tbody>\n",
       "</table>\n",
       "</div>"
      ],
      "text/plain": [
       "              area_type   availability                  location       size  \\\n",
       "0  Super built-up  Area         19-Dec  Electronic City Phase II      2 BHK   \n",
       "1            Plot  Area  Ready To Move          Chikka Tirupathi  4 Bedroom   \n",
       "\n",
       "  total_sqft  bath  balcony   price  \n",
       "0       1056   2.0      1.0   39.07  \n",
       "1       2600   5.0      3.0  120.00  "
      ]
     },
     "execution_count": 124,
     "metadata": {},
     "output_type": "execute_result"
    }
   ],
   "source": [
    "data.head(2)"
   ]
  },
  {
   "cell_type": "code",
   "execution_count": 125,
   "id": "c0614549-f378-404a-87b9-7772a57daaf2",
   "metadata": {},
   "outputs": [
    {
     "data": {
      "text/plain": [
       "Index(['area_type', 'availability', 'location', 'size', 'total_sqft', 'bath',\n",
       "       'balcony', 'price'],\n",
       "      dtype='object')"
      ]
     },
     "execution_count": 125,
     "metadata": {},
     "output_type": "execute_result"
    }
   ],
   "source": [
    "data.columns"
   ]
  },
  {
   "cell_type": "code",
   "execution_count": 126,
   "id": "7b9c320e-d375-43e1-96fd-183fb14ad014",
   "metadata": {},
   "outputs": [
    {
     "data": {
      "text/plain": [
       "area_type\n",
       "Super built-up  Area    8790\n",
       "Built-up  Area          2418\n",
       "Plot  Area              2025\n",
       "Carpet  Area              87\n",
       "Name: count, dtype: int64"
      ]
     },
     "execution_count": 126,
     "metadata": {},
     "output_type": "execute_result"
    }
   ],
   "source": [
    "data[\"area_type\"].value_counts()"
   ]
  },
  {
   "cell_type": "code",
   "execution_count": 127,
   "id": "846724a9-18ae-4002-a73b-1bc7d292d3da",
   "metadata": {},
   "outputs": [
    {
     "data": {
      "text/plain": [
       "array(['Super built-up  Area', 'Plot  Area', 'Built-up  Area',\n",
       "       'Carpet  Area'], dtype=object)"
      ]
     },
     "execution_count": 127,
     "metadata": {},
     "output_type": "execute_result"
    }
   ],
   "source": [
    "data[\"area_type\"].unique()"
   ]
  },
  {
   "cell_type": "code",
   "execution_count": 128,
   "id": "a4db2901-edc6-4b86-911e-1871be9806a9",
   "metadata": {},
   "outputs": [],
   "source": [
    "#  the Carpet Area count is too small, and combining it with Plot Area ensures a more balanced dataset."
   ]
  },
  {
   "cell_type": "code",
   "execution_count": 129,
   "id": "fc700095-da0a-4502-a8a3-a9d2fa7ee8d8",
   "metadata": {},
   "outputs": [],
   "source": [
    "data[\"area_type\"] = data[\"area_type\"].apply(lambda x : \"Plot  Area\" if x == \"Carpet  Area\" else x )"
   ]
  },
  {
   "cell_type": "code",
   "execution_count": 130,
   "id": "f1c623c9-10ab-46aa-a643-ecbe13146668",
   "metadata": {},
   "outputs": [
    {
     "data": {
      "text/plain": [
       "area_type\n",
       "Super built-up  Area    8790\n",
       "Built-up  Area          2418\n",
       "Plot  Area              2112\n",
       "Name: count, dtype: int64"
      ]
     },
     "execution_count": 130,
     "metadata": {},
     "output_type": "execute_result"
    }
   ],
   "source": [
    "data[\"area_type\"].value_counts()"
   ]
  },
  {
   "cell_type": "markdown",
   "id": "7cde6b1e",
   "metadata": {},
   "source": [
    "# availability\t"
   ]
  },
  {
   "cell_type": "code",
   "execution_count": 131,
   "id": "0c33b55f-8ddd-43f3-9961-2822e2688ef1",
   "metadata": {},
   "outputs": [
    {
     "data": {
      "text/plain": [
       "availability\n",
       "Ready To Move    10581\n",
       "18-Dec             307\n",
       "18-May             295\n",
       "18-Apr             271\n",
       "18-Aug             200\n",
       "                 ...  \n",
       "15-Aug               1\n",
       "17-Jan               1\n",
       "16-Nov               1\n",
       "16-Jan               1\n",
       "14-Jul               1\n",
       "Name: count, Length: 81, dtype: int64"
      ]
     },
     "execution_count": 131,
     "metadata": {},
     "output_type": "execute_result"
    }
   ],
   "source": [
    "data[\"availability\"].value_counts()"
   ]
  },
  {
   "cell_type": "code",
   "execution_count": 132,
   "id": "33e71bb4-e640-47ca-a83b-10e25db9cbb2",
   "metadata": {},
   "outputs": [
    {
     "data": {
      "text/plain": [
       "array(['19-Dec', 'Ready To Move', '18-May', '18-Feb', '18-Nov', '20-Dec',\n",
       "       '17-Oct', '21-Dec', '19-Sep', '20-Sep', '18-Mar', '20-Feb',\n",
       "       '18-Apr', '20-Aug', '18-Oct', '19-Mar', '17-Sep', '18-Dec',\n",
       "       '17-Aug', '19-Apr', '18-Jun', '22-Dec', '22-Jan', '18-Aug',\n",
       "       '19-Jan', '17-Jul', '18-Jul', '21-Jun', '20-May', '19-Aug',\n",
       "       '18-Sep', '17-May', '17-Jun', '21-May', '18-Jan', '20-Mar',\n",
       "       '17-Dec', '16-Mar', '19-Jun', '22-Jun', '19-Jul', '21-Feb',\n",
       "       'Immediate Possession', '19-May', '17-Nov', '20-Oct', '20-Jun',\n",
       "       '19-Feb', '21-Oct', '21-Jan', '17-Mar', '17-Apr', '22-May',\n",
       "       '19-Oct', '21-Jul', '21-Nov', '21-Mar', '16-Dec', '22-Mar',\n",
       "       '20-Jan', '21-Sep', '21-Aug', '14-Nov', '19-Nov', '15-Nov',\n",
       "       '16-Jul', '15-Jun', '17-Feb', '20-Nov', '20-Jul', '16-Sep',\n",
       "       '15-Oct', '15-Dec', '16-Oct', '22-Nov', '15-Aug', '17-Jan',\n",
       "       '16-Nov', '20-Apr', '16-Jan', '14-Jul'], dtype=object)"
      ]
     },
     "execution_count": 132,
     "metadata": {},
     "output_type": "execute_result"
    }
   ],
   "source": [
    "data[\"availability\"].unique()"
   ]
  },
  {
   "cell_type": "code",
   "execution_count": 133,
   "id": "8a52833c-5ac4-44a1-9a4c-8e6ebac4e50a",
   "metadata": {},
   "outputs": [],
   "source": [
    "# To group all dates into their respective months"
   ]
  },
  {
   "cell_type": "code",
   "execution_count": 134,
   "id": "a080f857-e40f-4b98-b69a-43ed3f7005e3",
   "metadata": {},
   "outputs": [],
   "source": [
    "data[\"availability\"] = data[\"availability\"].replace(\"Immediate Possession\",\"Ready To Move\")"
   ]
  },
  {
   "cell_type": "code",
   "execution_count": 135,
   "id": "ddefaf4e-a9e3-4077-85d7-31a849343769",
   "metadata": {},
   "outputs": [
    {
     "ename": "IndexError",
     "evalue": "only integers, slices (`:`), ellipsis (`...`), numpy.newaxis (`None`) and integer or boolean arrays are valid indices",
     "output_type": "error",
     "traceback": [
      "\u001b[1;31m---------------------------------------------------------------------------\u001b[0m",
      "\u001b[1;31mIndexError\u001b[0m                                Traceback (most recent call last)",
      "Cell \u001b[1;32mIn[135], line 1\u001b[0m\n\u001b[1;32m----> 1\u001b[0m \u001b[43mdata\u001b[49m\u001b[43m[\u001b[49m\u001b[38;5;124;43m\"\u001b[39;49m\u001b[38;5;124;43mavailability\u001b[39;49m\u001b[38;5;124;43m\"\u001b[39;49m\u001b[43m]\u001b[49m\u001b[38;5;241;43m.\u001b[39;49m\u001b[43munique\u001b[49m\u001b[43m(\u001b[49m\u001b[43m)\u001b[49m\u001b[43m \u001b[49m\u001b[43m[\u001b[49m\u001b[38;5;124;43m\"\u001b[39;49m\u001b[38;5;124;43m18\u001b[39;49m\u001b[38;5;124;43m\"\u001b[39;49m\u001b[43m,\u001b[49m\u001b[38;5;124;43m\"\u001b[39;49m\u001b[38;5;124;43mMay\u001b[39;49m\u001b[38;5;124;43m\"\u001b[39;49m\u001b[43m]\u001b[49m\n",
      "\u001b[1;31mIndexError\u001b[0m: only integers, slices (`:`), ellipsis (`...`), numpy.newaxis (`None`) and integer or boolean arrays are valid indices"
     ]
    }
   ],
   "source": [
    "data[\"availability\"].unique() [\"18\",\"May\"]"
   ]
  },
  {
   "cell_type": "code",
   "execution_count": 136,
   "id": "e5bfbbbf-6f9b-4855-b374-044325bfccb5",
   "metadata": {},
   "outputs": [],
   "source": [
    "def extract_month(value):\n",
    "    if value == \"Ready To Move\":\n",
    "        return value\n",
    "    else: \n",
    "        return value.split(\"-\")[-1]"
   ]
  },
  {
   "cell_type": "code",
   "execution_count": 137,
   "id": "8067da8e-eb21-4b6c-b652-2f3369565825",
   "metadata": {},
   "outputs": [],
   "source": [
    "data[\"availability\"] = data[\"availability\"].apply(extract_month)"
   ]
  },
  {
   "cell_type": "code",
   "execution_count": 138,
   "id": "64bc7f9d-7ba6-4472-9374-00aa22bc66bd",
   "metadata": {},
   "outputs": [
    {
     "data": {
      "text/plain": [
       "availability\n",
       "Ready To Move    10597\n",
       "Dec                728\n",
       "May                338\n",
       "Apr                298\n",
       "Aug                249\n",
       "Mar                246\n",
       "Jul                206\n",
       "Jun                200\n",
       "Jan                126\n",
       "Oct                 91\n",
       "Sep                 87\n",
       "Nov                 79\n",
       "Feb                 75\n",
       "Name: count, dtype: int64"
      ]
     },
     "execution_count": 138,
     "metadata": {},
     "output_type": "execute_result"
    }
   ],
   "source": [
    "data[\"availability\"].value_counts()"
   ]
  },
  {
   "cell_type": "markdown",
   "id": "392bdd19",
   "metadata": {},
   "source": [
    "# location"
   ]
  },
  {
   "cell_type": "code",
   "execution_count": 139,
   "id": "c3bcd491-e393-4237-8e24-a44e02a05ba9",
   "metadata": {},
   "outputs": [
    {
     "data": {
      "text/plain": [
       "location\n",
       "Whitefield                        540\n",
       "Sarjapur  Road                    399\n",
       "Electronic City                   302\n",
       "Kanakpura Road                    273\n",
       "Thanisandra                       234\n",
       "                                 ... \n",
       "Bapuji Layout                       1\n",
       "1st Stage Radha Krishna Layout      1\n",
       "BEML Layout 5th stage               1\n",
       "singapura paradise                  1\n",
       "Abshot Layout                       1\n",
       "Name: count, Length: 1305, dtype: int64"
      ]
     },
     "execution_count": 139,
     "metadata": {},
     "output_type": "execute_result"
    }
   ],
   "source": [
    "data[\"location\"].value_counts() #other"
   ]
  },
  {
   "cell_type": "code",
   "execution_count": 140,
   "id": "cf183533-d2e1-4f09-a7c1-814d81b48f97",
   "metadata": {},
   "outputs": [
    {
     "data": {
      "text/plain": [
       "array(['Electronic City Phase II', 'Chikka Tirupathi', 'Uttarahalli', ...,\n",
       "       '12th cross srinivas nagar banshankari 3rd stage',\n",
       "       'Havanur extension', 'Abshot Layout'], dtype=object)"
      ]
     },
     "execution_count": 140,
     "metadata": {},
     "output_type": "execute_result"
    }
   ],
   "source": [
    "data[\"location\"].unique()"
   ]
  },
  {
   "cell_type": "code",
   "execution_count": 141,
   "id": "145dde8f",
   "metadata": {},
   "outputs": [
    {
     "ename": "KeyError",
     "evalue": "nan",
     "output_type": "error",
     "traceback": [
      "\u001b[1;31m---------------------------------------------------------------------------\u001b[0m",
      "\u001b[1;31mKeyError\u001b[0m                                  Traceback (most recent call last)",
      "File \u001b[1;32m~\\AppData\\Roaming\\Python\\Python312\\site-packages\\pandas\\core\\indexes\\base.py:3805\u001b[0m, in \u001b[0;36mIndex.get_loc\u001b[1;34m(self, key)\u001b[0m\n\u001b[0;32m   3804\u001b[0m \u001b[38;5;28;01mtry\u001b[39;00m:\n\u001b[1;32m-> 3805\u001b[0m     \u001b[38;5;28;01mreturn\u001b[39;00m \u001b[38;5;28;43mself\u001b[39;49m\u001b[38;5;241;43m.\u001b[39;49m\u001b[43m_engine\u001b[49m\u001b[38;5;241;43m.\u001b[39;49m\u001b[43mget_loc\u001b[49m\u001b[43m(\u001b[49m\u001b[43mcasted_key\u001b[49m\u001b[43m)\u001b[49m\n\u001b[0;32m   3806\u001b[0m \u001b[38;5;28;01mexcept\u001b[39;00m \u001b[38;5;167;01mKeyError\u001b[39;00m \u001b[38;5;28;01mas\u001b[39;00m err:\n",
      "File \u001b[1;32mindex.pyx:167\u001b[0m, in \u001b[0;36mpandas._libs.index.IndexEngine.get_loc\u001b[1;34m()\u001b[0m\n",
      "File \u001b[1;32mindex.pyx:196\u001b[0m, in \u001b[0;36mpandas._libs.index.IndexEngine.get_loc\u001b[1;34m()\u001b[0m\n",
      "File \u001b[1;32mpandas\\\\_libs\\\\hashtable_class_helper.pxi:7081\u001b[0m, in \u001b[0;36mpandas._libs.hashtable.PyObjectHashTable.get_item\u001b[1;34m()\u001b[0m\n",
      "File \u001b[1;32mpandas\\\\_libs\\\\hashtable_class_helper.pxi:7089\u001b[0m, in \u001b[0;36mpandas._libs.hashtable.PyObjectHashTable.get_item\u001b[1;34m()\u001b[0m\n",
      "\u001b[1;31mKeyError\u001b[0m: nan",
      "\nThe above exception was the direct cause of the following exception:\n",
      "\u001b[1;31mKeyError\u001b[0m                                  Traceback (most recent call last)",
      "Cell \u001b[1;32mIn[141], line 2\u001b[0m\n\u001b[0;32m      1\u001b[0m locationsdic \u001b[38;5;241m=\u001b[39m data[\u001b[38;5;124m\"\u001b[39m\u001b[38;5;124mlocation\u001b[39m\u001b[38;5;124m\"\u001b[39m]\u001b[38;5;241m.\u001b[39mvalue_counts()\n\u001b[1;32m----> 2\u001b[0m data[\u001b[38;5;124m\"\u001b[39m\u001b[38;5;124mlocation\u001b[39m\u001b[38;5;124m\"\u001b[39m] \u001b[38;5;241m=\u001b[39m \u001b[43mdata\u001b[49m\u001b[43m[\u001b[49m\u001b[38;5;124;43m\"\u001b[39;49m\u001b[38;5;124;43mlocation\u001b[39;49m\u001b[38;5;124;43m\"\u001b[39;49m\u001b[43m]\u001b[49m\u001b[38;5;241;43m.\u001b[39;49m\u001b[43mapply\u001b[49m\u001b[43m(\u001b[49m\u001b[38;5;28;43;01mlambda\u001b[39;49;00m\u001b[43m \u001b[49m\u001b[43mx\u001b[49m\u001b[43m \u001b[49m\u001b[43m:\u001b[49m\u001b[43m \u001b[49m\u001b[43mx\u001b[49m\u001b[43m \u001b[49m\u001b[38;5;28;43;01mif\u001b[39;49;00m\u001b[43m \u001b[49m\u001b[43mlocationsdic\u001b[49m\u001b[43m[\u001b[49m\u001b[43mx\u001b[49m\u001b[43m]\u001b[49m\u001b[43m \u001b[49m\u001b[38;5;241;43m>\u001b[39;49m\u001b[38;5;241;43m=\u001b[39;49m\u001b[43m \u001b[49m\u001b[38;5;241;43m10\u001b[39;49m\u001b[43m \u001b[49m\u001b[38;5;28;43;01melse\u001b[39;49;00m\u001b[43m \u001b[49m\u001b[38;5;124;43m\"\u001b[39;49m\u001b[38;5;124;43mothers\u001b[39;49m\u001b[38;5;124;43m\"\u001b[39;49m\u001b[43m)\u001b[49m\n",
      "File \u001b[1;32m~\\AppData\\Roaming\\Python\\Python312\\site-packages\\pandas\\core\\series.py:4924\u001b[0m, in \u001b[0;36mSeries.apply\u001b[1;34m(self, func, convert_dtype, args, by_row, **kwargs)\u001b[0m\n\u001b[0;32m   4789\u001b[0m \u001b[38;5;28;01mdef\u001b[39;00m \u001b[38;5;21mapply\u001b[39m(\n\u001b[0;32m   4790\u001b[0m     \u001b[38;5;28mself\u001b[39m,\n\u001b[0;32m   4791\u001b[0m     func: AggFuncType,\n\u001b[1;32m   (...)\u001b[0m\n\u001b[0;32m   4796\u001b[0m     \u001b[38;5;241m*\u001b[39m\u001b[38;5;241m*\u001b[39mkwargs,\n\u001b[0;32m   4797\u001b[0m ) \u001b[38;5;241m-\u001b[39m\u001b[38;5;241m>\u001b[39m DataFrame \u001b[38;5;241m|\u001b[39m Series:\n\u001b[0;32m   4798\u001b[0m \u001b[38;5;250m    \u001b[39m\u001b[38;5;124;03m\"\"\"\u001b[39;00m\n\u001b[0;32m   4799\u001b[0m \u001b[38;5;124;03m    Invoke function on values of Series.\u001b[39;00m\n\u001b[0;32m   4800\u001b[0m \n\u001b[1;32m   (...)\u001b[0m\n\u001b[0;32m   4915\u001b[0m \u001b[38;5;124;03m    dtype: float64\u001b[39;00m\n\u001b[0;32m   4916\u001b[0m \u001b[38;5;124;03m    \"\"\"\u001b[39;00m\n\u001b[0;32m   4917\u001b[0m     \u001b[38;5;28;01mreturn\u001b[39;00m \u001b[43mSeriesApply\u001b[49m\u001b[43m(\u001b[49m\n\u001b[0;32m   4918\u001b[0m \u001b[43m        \u001b[49m\u001b[38;5;28;43mself\u001b[39;49m\u001b[43m,\u001b[49m\n\u001b[0;32m   4919\u001b[0m \u001b[43m        \u001b[49m\u001b[43mfunc\u001b[49m\u001b[43m,\u001b[49m\n\u001b[0;32m   4920\u001b[0m \u001b[43m        \u001b[49m\u001b[43mconvert_dtype\u001b[49m\u001b[38;5;241;43m=\u001b[39;49m\u001b[43mconvert_dtype\u001b[49m\u001b[43m,\u001b[49m\n\u001b[0;32m   4921\u001b[0m \u001b[43m        \u001b[49m\u001b[43mby_row\u001b[49m\u001b[38;5;241;43m=\u001b[39;49m\u001b[43mby_row\u001b[49m\u001b[43m,\u001b[49m\n\u001b[0;32m   4922\u001b[0m \u001b[43m        \u001b[49m\u001b[43margs\u001b[49m\u001b[38;5;241;43m=\u001b[39;49m\u001b[43margs\u001b[49m\u001b[43m,\u001b[49m\n\u001b[0;32m   4923\u001b[0m \u001b[43m        \u001b[49m\u001b[43mkwargs\u001b[49m\u001b[38;5;241;43m=\u001b[39;49m\u001b[43mkwargs\u001b[49m\u001b[43m,\u001b[49m\n\u001b[1;32m-> 4924\u001b[0m \u001b[43m    \u001b[49m\u001b[43m)\u001b[49m\u001b[38;5;241;43m.\u001b[39;49m\u001b[43mapply\u001b[49m\u001b[43m(\u001b[49m\u001b[43m)\u001b[49m\n",
      "File \u001b[1;32m~\\AppData\\Roaming\\Python\\Python312\\site-packages\\pandas\\core\\apply.py:1427\u001b[0m, in \u001b[0;36mSeriesApply.apply\u001b[1;34m(self)\u001b[0m\n\u001b[0;32m   1424\u001b[0m     \u001b[38;5;28;01mreturn\u001b[39;00m \u001b[38;5;28mself\u001b[39m\u001b[38;5;241m.\u001b[39mapply_compat()\n\u001b[0;32m   1426\u001b[0m \u001b[38;5;66;03m# self.func is Callable\u001b[39;00m\n\u001b[1;32m-> 1427\u001b[0m \u001b[38;5;28;01mreturn\u001b[39;00m \u001b[38;5;28;43mself\u001b[39;49m\u001b[38;5;241;43m.\u001b[39;49m\u001b[43mapply_standard\u001b[49m\u001b[43m(\u001b[49m\u001b[43m)\u001b[49m\n",
      "File \u001b[1;32m~\\AppData\\Roaming\\Python\\Python312\\site-packages\\pandas\\core\\apply.py:1507\u001b[0m, in \u001b[0;36mSeriesApply.apply_standard\u001b[1;34m(self)\u001b[0m\n\u001b[0;32m   1501\u001b[0m \u001b[38;5;66;03m# row-wise access\u001b[39;00m\n\u001b[0;32m   1502\u001b[0m \u001b[38;5;66;03m# apply doesn't have a `na_action` keyword and for backward compat reasons\u001b[39;00m\n\u001b[0;32m   1503\u001b[0m \u001b[38;5;66;03m# we need to give `na_action=\"ignore\"` for categorical data.\u001b[39;00m\n\u001b[0;32m   1504\u001b[0m \u001b[38;5;66;03m# TODO: remove the `na_action=\"ignore\"` when that default has been changed in\u001b[39;00m\n\u001b[0;32m   1505\u001b[0m \u001b[38;5;66;03m#  Categorical (GH51645).\u001b[39;00m\n\u001b[0;32m   1506\u001b[0m action \u001b[38;5;241m=\u001b[39m \u001b[38;5;124m\"\u001b[39m\u001b[38;5;124mignore\u001b[39m\u001b[38;5;124m\"\u001b[39m \u001b[38;5;28;01mif\u001b[39;00m \u001b[38;5;28misinstance\u001b[39m(obj\u001b[38;5;241m.\u001b[39mdtype, CategoricalDtype) \u001b[38;5;28;01melse\u001b[39;00m \u001b[38;5;28;01mNone\u001b[39;00m\n\u001b[1;32m-> 1507\u001b[0m mapped \u001b[38;5;241m=\u001b[39m \u001b[43mobj\u001b[49m\u001b[38;5;241;43m.\u001b[39;49m\u001b[43m_map_values\u001b[49m\u001b[43m(\u001b[49m\n\u001b[0;32m   1508\u001b[0m \u001b[43m    \u001b[49m\u001b[43mmapper\u001b[49m\u001b[38;5;241;43m=\u001b[39;49m\u001b[43mcurried\u001b[49m\u001b[43m,\u001b[49m\u001b[43m \u001b[49m\u001b[43mna_action\u001b[49m\u001b[38;5;241;43m=\u001b[39;49m\u001b[43maction\u001b[49m\u001b[43m,\u001b[49m\u001b[43m \u001b[49m\u001b[43mconvert\u001b[49m\u001b[38;5;241;43m=\u001b[39;49m\u001b[38;5;28;43mself\u001b[39;49m\u001b[38;5;241;43m.\u001b[39;49m\u001b[43mconvert_dtype\u001b[49m\n\u001b[0;32m   1509\u001b[0m \u001b[43m\u001b[49m\u001b[43m)\u001b[49m\n\u001b[0;32m   1511\u001b[0m \u001b[38;5;28;01mif\u001b[39;00m \u001b[38;5;28mlen\u001b[39m(mapped) \u001b[38;5;129;01mand\u001b[39;00m \u001b[38;5;28misinstance\u001b[39m(mapped[\u001b[38;5;241m0\u001b[39m], ABCSeries):\n\u001b[0;32m   1512\u001b[0m     \u001b[38;5;66;03m# GH#43986 Need to do list(mapped) in order to get treated as nested\u001b[39;00m\n\u001b[0;32m   1513\u001b[0m     \u001b[38;5;66;03m#  See also GH#25959 regarding EA support\u001b[39;00m\n\u001b[0;32m   1514\u001b[0m     \u001b[38;5;28;01mreturn\u001b[39;00m obj\u001b[38;5;241m.\u001b[39m_constructor_expanddim(\u001b[38;5;28mlist\u001b[39m(mapped), index\u001b[38;5;241m=\u001b[39mobj\u001b[38;5;241m.\u001b[39mindex)\n",
      "File \u001b[1;32m~\\AppData\\Roaming\\Python\\Python312\\site-packages\\pandas\\core\\base.py:921\u001b[0m, in \u001b[0;36mIndexOpsMixin._map_values\u001b[1;34m(self, mapper, na_action, convert)\u001b[0m\n\u001b[0;32m    918\u001b[0m \u001b[38;5;28;01mif\u001b[39;00m \u001b[38;5;28misinstance\u001b[39m(arr, ExtensionArray):\n\u001b[0;32m    919\u001b[0m     \u001b[38;5;28;01mreturn\u001b[39;00m arr\u001b[38;5;241m.\u001b[39mmap(mapper, na_action\u001b[38;5;241m=\u001b[39mna_action)\n\u001b[1;32m--> 921\u001b[0m \u001b[38;5;28;01mreturn\u001b[39;00m \u001b[43malgorithms\u001b[49m\u001b[38;5;241;43m.\u001b[39;49m\u001b[43mmap_array\u001b[49m\u001b[43m(\u001b[49m\u001b[43marr\u001b[49m\u001b[43m,\u001b[49m\u001b[43m \u001b[49m\u001b[43mmapper\u001b[49m\u001b[43m,\u001b[49m\u001b[43m \u001b[49m\u001b[43mna_action\u001b[49m\u001b[38;5;241;43m=\u001b[39;49m\u001b[43mna_action\u001b[49m\u001b[43m,\u001b[49m\u001b[43m \u001b[49m\u001b[43mconvert\u001b[49m\u001b[38;5;241;43m=\u001b[39;49m\u001b[43mconvert\u001b[49m\u001b[43m)\u001b[49m\n",
      "File \u001b[1;32m~\\AppData\\Roaming\\Python\\Python312\\site-packages\\pandas\\core\\algorithms.py:1743\u001b[0m, in \u001b[0;36mmap_array\u001b[1;34m(arr, mapper, na_action, convert)\u001b[0m\n\u001b[0;32m   1741\u001b[0m values \u001b[38;5;241m=\u001b[39m arr\u001b[38;5;241m.\u001b[39mastype(\u001b[38;5;28mobject\u001b[39m, copy\u001b[38;5;241m=\u001b[39m\u001b[38;5;28;01mFalse\u001b[39;00m)\n\u001b[0;32m   1742\u001b[0m \u001b[38;5;28;01mif\u001b[39;00m na_action \u001b[38;5;129;01mis\u001b[39;00m \u001b[38;5;28;01mNone\u001b[39;00m:\n\u001b[1;32m-> 1743\u001b[0m     \u001b[38;5;28;01mreturn\u001b[39;00m \u001b[43mlib\u001b[49m\u001b[38;5;241;43m.\u001b[39;49m\u001b[43mmap_infer\u001b[49m\u001b[43m(\u001b[49m\u001b[43mvalues\u001b[49m\u001b[43m,\u001b[49m\u001b[43m \u001b[49m\u001b[43mmapper\u001b[49m\u001b[43m,\u001b[49m\u001b[43m \u001b[49m\u001b[43mconvert\u001b[49m\u001b[38;5;241;43m=\u001b[39;49m\u001b[43mconvert\u001b[49m\u001b[43m)\u001b[49m\n\u001b[0;32m   1744\u001b[0m \u001b[38;5;28;01melse\u001b[39;00m:\n\u001b[0;32m   1745\u001b[0m     \u001b[38;5;28;01mreturn\u001b[39;00m lib\u001b[38;5;241m.\u001b[39mmap_infer_mask(\n\u001b[0;32m   1746\u001b[0m         values, mapper, mask\u001b[38;5;241m=\u001b[39misna(values)\u001b[38;5;241m.\u001b[39mview(np\u001b[38;5;241m.\u001b[39muint8), convert\u001b[38;5;241m=\u001b[39mconvert\n\u001b[0;32m   1747\u001b[0m     )\n",
      "File \u001b[1;32mlib.pyx:2972\u001b[0m, in \u001b[0;36mpandas._libs.lib.map_infer\u001b[1;34m()\u001b[0m\n",
      "Cell \u001b[1;32mIn[141], line 2\u001b[0m, in \u001b[0;36m<lambda>\u001b[1;34m(x)\u001b[0m\n\u001b[0;32m      1\u001b[0m locationsdic \u001b[38;5;241m=\u001b[39m data[\u001b[38;5;124m\"\u001b[39m\u001b[38;5;124mlocation\u001b[39m\u001b[38;5;124m\"\u001b[39m]\u001b[38;5;241m.\u001b[39mvalue_counts()\n\u001b[1;32m----> 2\u001b[0m data[\u001b[38;5;124m\"\u001b[39m\u001b[38;5;124mlocation\u001b[39m\u001b[38;5;124m\"\u001b[39m] \u001b[38;5;241m=\u001b[39m data[\u001b[38;5;124m\"\u001b[39m\u001b[38;5;124mlocation\u001b[39m\u001b[38;5;124m\"\u001b[39m]\u001b[38;5;241m.\u001b[39mapply(\u001b[38;5;28;01mlambda\u001b[39;00m x : x \u001b[38;5;28;01mif\u001b[39;00m \u001b[43mlocationsdic\u001b[49m\u001b[43m[\u001b[49m\u001b[43mx\u001b[49m\u001b[43m]\u001b[49m \u001b[38;5;241m>\u001b[39m\u001b[38;5;241m=\u001b[39m \u001b[38;5;241m10\u001b[39m \u001b[38;5;28;01melse\u001b[39;00m \u001b[38;5;124m\"\u001b[39m\u001b[38;5;124mothers\u001b[39m\u001b[38;5;124m\"\u001b[39m)\n",
      "File \u001b[1;32m~\\AppData\\Roaming\\Python\\Python312\\site-packages\\pandas\\core\\series.py:1121\u001b[0m, in \u001b[0;36mSeries.__getitem__\u001b[1;34m(self, key)\u001b[0m\n\u001b[0;32m   1118\u001b[0m     \u001b[38;5;28;01mreturn\u001b[39;00m \u001b[38;5;28mself\u001b[39m\u001b[38;5;241m.\u001b[39m_values[key]\n\u001b[0;32m   1120\u001b[0m \u001b[38;5;28;01melif\u001b[39;00m key_is_scalar:\n\u001b[1;32m-> 1121\u001b[0m     \u001b[38;5;28;01mreturn\u001b[39;00m \u001b[38;5;28;43mself\u001b[39;49m\u001b[38;5;241;43m.\u001b[39;49m\u001b[43m_get_value\u001b[49m\u001b[43m(\u001b[49m\u001b[43mkey\u001b[49m\u001b[43m)\u001b[49m\n\u001b[0;32m   1123\u001b[0m \u001b[38;5;66;03m# Convert generator to list before going through hashable part\u001b[39;00m\n\u001b[0;32m   1124\u001b[0m \u001b[38;5;66;03m# (We will iterate through the generator there to check for slices)\u001b[39;00m\n\u001b[0;32m   1125\u001b[0m \u001b[38;5;28;01mif\u001b[39;00m is_iterator(key):\n",
      "File \u001b[1;32m~\\AppData\\Roaming\\Python\\Python312\\site-packages\\pandas\\core\\series.py:1237\u001b[0m, in \u001b[0;36mSeries._get_value\u001b[1;34m(self, label, takeable)\u001b[0m\n\u001b[0;32m   1234\u001b[0m     \u001b[38;5;28;01mreturn\u001b[39;00m \u001b[38;5;28mself\u001b[39m\u001b[38;5;241m.\u001b[39m_values[label]\n\u001b[0;32m   1236\u001b[0m \u001b[38;5;66;03m# Similar to Index.get_value, but we do not fall back to positional\u001b[39;00m\n\u001b[1;32m-> 1237\u001b[0m loc \u001b[38;5;241m=\u001b[39m \u001b[38;5;28;43mself\u001b[39;49m\u001b[38;5;241;43m.\u001b[39;49m\u001b[43mindex\u001b[49m\u001b[38;5;241;43m.\u001b[39;49m\u001b[43mget_loc\u001b[49m\u001b[43m(\u001b[49m\u001b[43mlabel\u001b[49m\u001b[43m)\u001b[49m\n\u001b[0;32m   1239\u001b[0m \u001b[38;5;28;01mif\u001b[39;00m is_integer(loc):\n\u001b[0;32m   1240\u001b[0m     \u001b[38;5;28;01mreturn\u001b[39;00m \u001b[38;5;28mself\u001b[39m\u001b[38;5;241m.\u001b[39m_values[loc]\n",
      "File \u001b[1;32m~\\AppData\\Roaming\\Python\\Python312\\site-packages\\pandas\\core\\indexes\\base.py:3812\u001b[0m, in \u001b[0;36mIndex.get_loc\u001b[1;34m(self, key)\u001b[0m\n\u001b[0;32m   3807\u001b[0m     \u001b[38;5;28;01mif\u001b[39;00m \u001b[38;5;28misinstance\u001b[39m(casted_key, \u001b[38;5;28mslice\u001b[39m) \u001b[38;5;129;01mor\u001b[39;00m (\n\u001b[0;32m   3808\u001b[0m         \u001b[38;5;28misinstance\u001b[39m(casted_key, abc\u001b[38;5;241m.\u001b[39mIterable)\n\u001b[0;32m   3809\u001b[0m         \u001b[38;5;129;01mand\u001b[39;00m \u001b[38;5;28many\u001b[39m(\u001b[38;5;28misinstance\u001b[39m(x, \u001b[38;5;28mslice\u001b[39m) \u001b[38;5;28;01mfor\u001b[39;00m x \u001b[38;5;129;01min\u001b[39;00m casted_key)\n\u001b[0;32m   3810\u001b[0m     ):\n\u001b[0;32m   3811\u001b[0m         \u001b[38;5;28;01mraise\u001b[39;00m InvalidIndexError(key)\n\u001b[1;32m-> 3812\u001b[0m     \u001b[38;5;28;01mraise\u001b[39;00m \u001b[38;5;167;01mKeyError\u001b[39;00m(key) \u001b[38;5;28;01mfrom\u001b[39;00m \u001b[38;5;21;01merr\u001b[39;00m\n\u001b[0;32m   3813\u001b[0m \u001b[38;5;28;01mexcept\u001b[39;00m \u001b[38;5;167;01mTypeError\u001b[39;00m:\n\u001b[0;32m   3814\u001b[0m     \u001b[38;5;66;03m# If we have a listlike key, _check_indexing_error will raise\u001b[39;00m\n\u001b[0;32m   3815\u001b[0m     \u001b[38;5;66;03m#  InvalidIndexError. Otherwise we fall through and re-raise\u001b[39;00m\n\u001b[0;32m   3816\u001b[0m     \u001b[38;5;66;03m#  the TypeError.\u001b[39;00m\n\u001b[0;32m   3817\u001b[0m     \u001b[38;5;28mself\u001b[39m\u001b[38;5;241m.\u001b[39m_check_indexing_error(key)\n",
      "\u001b[1;31mKeyError\u001b[0m: nan"
     ]
    }
   ],
   "source": [
    "locationsdic = data[\"location\"].value_counts()\n",
    "data[\"location\"] = data[\"location\"].apply(lambda x : x if locationsdic[x] >= 10 else \"others\")\n"
   ]
  },
  {
   "cell_type": "markdown",
   "id": "103c13f6-012d-4306-8c15-3a7805483295",
   "metadata": {},
   "source": [
    "# we faced this issue because we have one nan value in this column"
   ]
  },
  {
   "cell_type": "code",
   "execution_count": 142,
   "id": "5faf9f39",
   "metadata": {},
   "outputs": [
    {
     "data": {
      "text/plain": [
       "1"
      ]
     },
     "execution_count": 142,
     "metadata": {},
     "output_type": "execute_result"
    }
   ],
   "source": [
    "data[\"location\"].isnull().sum()"
   ]
  },
  {
   "cell_type": "code",
   "execution_count": 143,
   "id": "6e5e831b",
   "metadata": {},
   "outputs": [],
   "source": [
    "data[\"location\"].fillna(data[\"location\"].mode()[0], inplace=True)"
   ]
  },
  {
   "cell_type": "code",
   "execution_count": 144,
   "id": "e01d2860",
   "metadata": {},
   "outputs": [
    {
     "data": {
      "text/plain": [
       "0"
      ]
     },
     "execution_count": 144,
     "metadata": {},
     "output_type": "execute_result"
    }
   ],
   "source": [
    "data[\"location\"].isnull().sum()"
   ]
  },
  {
   "cell_type": "code",
   "execution_count": 145,
   "id": "e7c0c6e5",
   "metadata": {},
   "outputs": [],
   "source": [
    "data[\"location\"] = data[\"location\"].apply(lambda x : x if locationsdic[x] >= 50 else \"others\")"
   ]
  },
  {
   "cell_type": "code",
   "execution_count": 146,
   "id": "8649e154",
   "metadata": {},
   "outputs": [
    {
     "data": {
      "text/plain": [
       "location\n",
       "others                      7149\n",
       "Whitefield                   541\n",
       "Sarjapur  Road               399\n",
       "Electronic City              302\n",
       "Kanakpura Road               273\n",
       "Thanisandra                  234\n",
       "Yelahanka                    213\n",
       "Uttarahalli                  186\n",
       "Hebbal                       177\n",
       "Marathahalli                 175\n",
       "Raja Rajeshwari Nagar        171\n",
       "Hennur Road                  152\n",
       "Bannerghatta Road            152\n",
       "7th Phase JP Nagar           149\n",
       "Haralur Road                 142\n",
       "Electronic City Phase II     132\n",
       "Rajaji Nagar                 107\n",
       "Chandapura                   100\n",
       "Bellandur                     96\n",
       "KR Puram                      91\n",
       "Hoodi                         88\n",
       "Electronics City Phase 1      88\n",
       "Yeshwanthpur                  85\n",
       "Begur Road                    84\n",
       "Sarjapur                      82\n",
       "Kasavanhalli                  80\n",
       "Harlur                        79\n",
       "Banashankari                  75\n",
       "Hormavu                       74\n",
       "Kengeri                       73\n",
       "Ramamurthy Nagar              73\n",
       "JP Nagar                      72\n",
       "Koramangala                   72\n",
       "Hosa Road                     72\n",
       "Old Madras Road               71\n",
       "Jakkur                        71\n",
       "Varthur                       70\n",
       "Kothanur                      66\n",
       "Kaggadasapura                 64\n",
       "Nagarbhavi                    63\n",
       "Akshaya Nagar                 62\n",
       "Thigalarapalya                62\n",
       "TC Palaya                     60\n",
       "Malleshwaram                  58\n",
       "8th Phase JP Nagar            57\n",
       "Rachenahalli                  56\n",
       "Hennur                        55\n",
       "Jigani                        54\n",
       "Budigere                      54\n",
       "HSR Layout                    53\n",
       "Hulimavu                      52\n",
       "Jalahalli                     52\n",
       "Panathur                      51\n",
       "Bisuvanahalli                 51\n",
       "Mysore Road                   50\n",
       "Ramagondanahalli              50\n",
       "Name: count, dtype: int64"
      ]
     },
     "execution_count": 146,
     "metadata": {},
     "output_type": "execute_result"
    }
   ],
   "source": [
    "data[\"location\"].value_counts()"
   ]
  },
  {
   "cell_type": "code",
   "execution_count": 50,
   "id": "ec48af45",
   "metadata": {},
   "outputs": [
    {
     "name": "stdout",
     "output_type": "stream",
     "text": [
      "<class 'pandas.core.frame.DataFrame'>\n",
      "RangeIndex: 13320 entries, 0 to 13319\n",
      "Data columns (total 8 columns):\n",
      " #   Column        Non-Null Count  Dtype  \n",
      "---  ------        --------------  -----  \n",
      " 0   area_type     13320 non-null  object \n",
      " 1   availability  13320 non-null  object \n",
      " 2   location      13320 non-null  object \n",
      " 3   size          13304 non-null  object \n",
      " 4   total_sqft    13320 non-null  object \n",
      " 5   bath          13247 non-null  float64\n",
      " 6   balcony       12711 non-null  float64\n",
      " 7   price         13320 non-null  float64\n",
      "dtypes: float64(3), object(5)\n",
      "memory usage: 832.6+ KB\n"
     ]
    }
   ],
   "source": [
    "data.info()"
   ]
  },
  {
   "cell_type": "code",
   "execution_count": 148,
   "id": "b2b423dc-85d5-4c92-82ae-0bad7455ceab",
   "metadata": {},
   "outputs": [],
   "source": [
    "data = data.drop(\"location\", axis=1)"
   ]
  },
  {
   "cell_type": "code",
   "execution_count": 149,
   "id": "63e8c9d5",
   "metadata": {},
   "outputs": [
    {
     "data": {
      "text/html": [
       "<div>\n",
       "<style scoped>\n",
       "    .dataframe tbody tr th:only-of-type {\n",
       "        vertical-align: middle;\n",
       "    }\n",
       "\n",
       "    .dataframe tbody tr th {\n",
       "        vertical-align: top;\n",
       "    }\n",
       "\n",
       "    .dataframe thead th {\n",
       "        text-align: right;\n",
       "    }\n",
       "</style>\n",
       "<table border=\"1\" class=\"dataframe\">\n",
       "  <thead>\n",
       "    <tr style=\"text-align: right;\">\n",
       "      <th></th>\n",
       "      <th>area_type</th>\n",
       "      <th>availability</th>\n",
       "      <th>size</th>\n",
       "      <th>total_sqft</th>\n",
       "      <th>bath</th>\n",
       "      <th>balcony</th>\n",
       "      <th>price</th>\n",
       "    </tr>\n",
       "  </thead>\n",
       "  <tbody>\n",
       "    <tr>\n",
       "      <th>0</th>\n",
       "      <td>Super built-up  Area</td>\n",
       "      <td>Dec</td>\n",
       "      <td>2 BHK</td>\n",
       "      <td>1056</td>\n",
       "      <td>2.0</td>\n",
       "      <td>1.0</td>\n",
       "      <td>39.07</td>\n",
       "    </tr>\n",
       "    <tr>\n",
       "      <th>1</th>\n",
       "      <td>Plot  Area</td>\n",
       "      <td>Ready To Move</td>\n",
       "      <td>4 Bedroom</td>\n",
       "      <td>2600</td>\n",
       "      <td>5.0</td>\n",
       "      <td>3.0</td>\n",
       "      <td>120.00</td>\n",
       "    </tr>\n",
       "    <tr>\n",
       "      <th>2</th>\n",
       "      <td>Built-up  Area</td>\n",
       "      <td>Ready To Move</td>\n",
       "      <td>3 BHK</td>\n",
       "      <td>1440</td>\n",
       "      <td>2.0</td>\n",
       "      <td>3.0</td>\n",
       "      <td>62.00</td>\n",
       "    </tr>\n",
       "    <tr>\n",
       "      <th>3</th>\n",
       "      <td>Super built-up  Area</td>\n",
       "      <td>Ready To Move</td>\n",
       "      <td>3 BHK</td>\n",
       "      <td>1521</td>\n",
       "      <td>3.0</td>\n",
       "      <td>1.0</td>\n",
       "      <td>95.00</td>\n",
       "    </tr>\n",
       "    <tr>\n",
       "      <th>4</th>\n",
       "      <td>Super built-up  Area</td>\n",
       "      <td>Ready To Move</td>\n",
       "      <td>2 BHK</td>\n",
       "      <td>1200</td>\n",
       "      <td>2.0</td>\n",
       "      <td>1.0</td>\n",
       "      <td>51.00</td>\n",
       "    </tr>\n",
       "  </tbody>\n",
       "</table>\n",
       "</div>"
      ],
      "text/plain": [
       "              area_type   availability       size total_sqft  bath  balcony  \\\n",
       "0  Super built-up  Area            Dec      2 BHK       1056   2.0      1.0   \n",
       "1            Plot  Area  Ready To Move  4 Bedroom       2600   5.0      3.0   \n",
       "2        Built-up  Area  Ready To Move      3 BHK       1440   2.0      3.0   \n",
       "3  Super built-up  Area  Ready To Move      3 BHK       1521   3.0      1.0   \n",
       "4  Super built-up  Area  Ready To Move      2 BHK       1200   2.0      1.0   \n",
       "\n",
       "    price  \n",
       "0   39.07  \n",
       "1  120.00  \n",
       "2   62.00  \n",
       "3   95.00  \n",
       "4   51.00  "
      ]
     },
     "execution_count": 149,
     "metadata": {},
     "output_type": "execute_result"
    }
   ],
   "source": [
    "data.head()"
   ]
  },
  {
   "cell_type": "code",
   "execution_count": 152,
   "id": "1dbaa814-06e0-40ec-a888-3860b381a8e8",
   "metadata": {},
   "outputs": [
    {
     "name": "stdout",
     "output_type": "stream",
     "text": [
      "<class 'pandas.core.frame.DataFrame'>\n",
      "RangeIndex: 13320 entries, 0 to 13319\n",
      "Data columns (total 7 columns):\n",
      " #   Column        Non-Null Count  Dtype  \n",
      "---  ------        --------------  -----  \n",
      " 0   area_type     13320 non-null  object \n",
      " 1   availability  13320 non-null  object \n",
      " 2   size          13304 non-null  object \n",
      " 3   total_sqft    13320 non-null  object \n",
      " 4   bath          13247 non-null  float64\n",
      " 5   balcony       12711 non-null  float64\n",
      " 6   price         13320 non-null  float64\n",
      "dtypes: float64(3), object(4)\n",
      "memory usage: 728.6+ KB\n"
     ]
    }
   ],
   "source": [
    "data.info()"
   ]
  },
  {
   "cell_type": "markdown",
   "id": "ede1ecc9-6169-4dab-923c-fd06a0d27828",
   "metadata": {},
   "source": [
    "# Size"
   ]
  },
  {
   "cell_type": "code",
   "execution_count": 153,
   "id": "5ab53e4c",
   "metadata": {},
   "outputs": [
    {
     "data": {
      "text/plain": [
       "16"
      ]
     },
     "execution_count": 153,
     "metadata": {},
     "output_type": "execute_result"
    }
   ],
   "source": [
    "data[\"size\"].isnull().sum()"
   ]
  },
  {
   "cell_type": "code",
   "execution_count": 154,
   "id": "ddede7f3",
   "metadata": {},
   "outputs": [
    {
     "name": "stderr",
     "output_type": "stream",
     "text": [
      "C:\\Users\\muneeb ur rehman\\AppData\\Local\\Temp\\ipykernel_16112\\4017260945.py:1: FutureWarning: A value is trying to be set on a copy of a DataFrame or Series through chained assignment using an inplace method.\n",
      "The behavior will change in pandas 3.0. This inplace method will never work because the intermediate object on which we are setting values always behaves as a copy.\n",
      "\n",
      "For example, when doing 'df[col].method(value, inplace=True)', try using 'df.method({col: value}, inplace=True)' or df[col] = df[col].method(value) instead, to perform the operation inplace on the original object.\n",
      "\n",
      "\n",
      "  data[\"size\"].fillna(data[\"size\"].mode()[0],inplace=True)\n"
     ]
    }
   ],
   "source": [
    "data[\"size\"].fillna(data[\"size\"].mode()[0],inplace=True)"
   ]
  },
  {
   "cell_type": "code",
   "execution_count": 155,
   "id": "6eb98f33",
   "metadata": {},
   "outputs": [
    {
     "data": {
      "text/plain": [
       "0"
      ]
     },
     "execution_count": 155,
     "metadata": {},
     "output_type": "execute_result"
    }
   ],
   "source": [
    "data[\"size\"].isnull().sum()"
   ]
  },
  {
   "cell_type": "code",
   "execution_count": 55,
   "id": "b537666f",
   "metadata": {},
   "outputs": [
    {
     "data": {
      "text/plain": [
       "size\n",
       "2 BHK         5215\n",
       "3 BHK         4310\n",
       "4 Bedroom      826\n",
       "4 BHK          591\n",
       "3 Bedroom      547\n",
       "1 BHK          538\n",
       "2 Bedroom      329\n",
       "5 Bedroom      297\n",
       "6 Bedroom      191\n",
       "1 Bedroom      105\n",
       "8 Bedroom       84\n",
       "7 Bedroom       83\n",
       "5 BHK           59\n",
       "9 Bedroom       46\n",
       "6 BHK           30\n",
       "7 BHK           17\n",
       "1 RK            13\n",
       "10 Bedroom      12\n",
       "9 BHK            8\n",
       "8 BHK            5\n",
       "11 BHK           2\n",
       "11 Bedroom       2\n",
       "10 BHK           2\n",
       "14 BHK           1\n",
       "13 BHK           1\n",
       "12 Bedroom       1\n",
       "27 BHK           1\n",
       "43 Bedroom       1\n",
       "16 BHK           1\n",
       "19 BHK           1\n",
       "18 Bedroom       1\n",
       "Name: count, dtype: int64"
      ]
     },
     "execution_count": 55,
     "metadata": {},
     "output_type": "execute_result"
    }
   ],
   "source": [
    "data[\"size\"].value_counts()"
   ]
  },
  {
   "cell_type": "code",
   "execution_count": 56,
   "id": "285ee368",
   "metadata": {},
   "outputs": [
    {
     "data": {
      "text/plain": [
       "array(['2 BHK', '4 Bedroom', '3 BHK', '4 BHK', '6 Bedroom', '3 Bedroom',\n",
       "       '1 BHK', '1 RK', '1 Bedroom', '8 Bedroom', '2 Bedroom',\n",
       "       '7 Bedroom', '5 BHK', '7 BHK', '6 BHK', '5 Bedroom', '11 BHK',\n",
       "       '9 BHK', '9 Bedroom', '27 BHK', '10 Bedroom', '11 Bedroom',\n",
       "       '10 BHK', '19 BHK', '16 BHK', '43 Bedroom', '14 BHK', '8 BHK',\n",
       "       '12 Bedroom', '13 BHK', '18 Bedroom'], dtype=object)"
      ]
     },
     "execution_count": 56,
     "metadata": {},
     "output_type": "execute_result"
    }
   ],
   "source": [
    "data[\"size\"].unique()    "
   ]
  },
  {
   "cell_type": "code",
   "execution_count": 57,
   "id": "647500f2",
   "metadata": {},
   "outputs": [
    {
     "data": {
      "text/plain": [
       "31"
      ]
     },
     "execution_count": 57,
     "metadata": {},
     "output_type": "execute_result"
    }
   ],
   "source": [
    "len(data[\"size\"].unique())"
   ]
  },
  {
   "cell_type": "code",
   "execution_count": 46,
   "id": "34fb432a",
   "metadata": {},
   "outputs": [],
   "source": [
    "# dealing with unrealistic or inconsistent data like 43 BHK or 19 BHK requires a logical and domain-specific approach.\n",
    "# Group All Sizes Above a Threshold into a Single Category"
   ]
  },
  {
   "cell_type": "code",
   "execution_count": 47,
   "id": "ecffce98",
   "metadata": {},
   "outputs": [],
   "source": [
    "# def clean_size(x):\n",
    "#     num = int(x.split()[0])\n",
    "#     return f\"{num} BHK\" if num <= 10 else \"10+ BHK\""
   ]
  },
  {
   "cell_type": "code",
   "execution_count": 48,
   "id": "51e2214f",
   "metadata": {},
   "outputs": [],
   "source": [
    "# data[\"size\"] = data[\"size\"].apply(clean_size)"
   ]
  },
  {
   "cell_type": "code",
   "execution_count": 58,
   "id": "04a20566-5bc6-4bac-9300-9ac0f33adb82",
   "metadata": {},
   "outputs": [],
   "source": [
    "# we have to creat new column where i can get the values of size\n",
    "data[\"BHK\"] = data[\"size\"].apply(lambda x: int(x.split()[0]))"
   ]
  },
  {
   "cell_type": "code",
   "execution_count": 49,
   "id": "39bf7f30",
   "metadata": {},
   "outputs": [
    {
     "data": {
      "text/plain": [
       "size\n",
       "2 BHK      5544\n",
       "3 BHK      4857\n",
       "4 BHK      1417\n",
       "1 BHK       656\n",
       "5 BHK       356\n",
       "6 BHK       221\n",
       "7 BHK       100\n",
       "8 BHK        89\n",
       "9 BHK        54\n",
       "10 BHK       14\n",
       "10+ BHK      12\n",
       "Name: count, dtype: int64"
      ]
     },
     "execution_count": 49,
     "metadata": {},
     "output_type": "execute_result"
    }
   ],
   "source": [
    "#  # checking\n",
    "# data[\"size\"].value_counts()"
   ]
  },
  {
   "cell_type": "markdown",
   "id": "3e2521ad-e9da-4c5c-a96b-72175f578ce7",
   "metadata": {},
   "source": [
    "# total_sqft"
   ]
  },
  {
   "cell_type": "code",
   "execution_count": 59,
   "id": "731eee3a",
   "metadata": {},
   "outputs": [
    {
     "data": {
      "text/plain": [
       "total_sqft\n",
       "1200    843\n",
       "1100    221\n",
       "1500    205\n",
       "2400    196\n",
       "600     180\n",
       "       ... \n",
       "3580      1\n",
       "2461      1\n",
       "1437      1\n",
       "2155      1\n",
       "4689      1\n",
       "Name: count, Length: 2117, dtype: int64"
      ]
     },
     "execution_count": 59,
     "metadata": {},
     "output_type": "execute_result"
    }
   ],
   "source": [
    "data[\"total_sqft\"].value_counts()"
   ]
  },
  {
   "cell_type": "code",
   "execution_count": 60,
   "id": "0b9e4179",
   "metadata": {},
   "outputs": [
    {
     "ename": "ValueError",
     "evalue": "invalid literal for int() with base 10: '2100 - 2850'",
     "output_type": "error",
     "traceback": [
      "\u001b[1;31m---------------------------------------------------------------------------\u001b[0m",
      "\u001b[1;31mValueError\u001b[0m                                Traceback (most recent call last)",
      "Cell \u001b[1;32mIn[60], line 1\u001b[0m\n\u001b[1;32m----> 1\u001b[0m data[\u001b[38;5;124m\"\u001b[39m\u001b[38;5;124mtotal_sqft\u001b[39m\u001b[38;5;124m\"\u001b[39m] \u001b[38;5;241m=\u001b[39m \u001b[43mdata\u001b[49m\u001b[43m[\u001b[49m\u001b[38;5;124;43m\"\u001b[39;49m\u001b[38;5;124;43mtotal_sqft\u001b[39;49m\u001b[38;5;124;43m\"\u001b[39;49m\u001b[43m]\u001b[49m\u001b[38;5;241;43m.\u001b[39;49m\u001b[43mapply\u001b[49m\u001b[43m(\u001b[49m\u001b[38;5;28;43;01mlambda\u001b[39;49;00m\u001b[43m \u001b[49m\u001b[43mx\u001b[49m\u001b[43m \u001b[49m\u001b[43m:\u001b[49m\u001b[43m \u001b[49m\u001b[38;5;28;43mint\u001b[39;49m\u001b[43m(\u001b[49m\u001b[43mx\u001b[49m\u001b[43m)\u001b[49m\u001b[43m)\u001b[49m\n",
      "File \u001b[1;32m~\\AppData\\Roaming\\Python\\Python312\\site-packages\\pandas\\core\\series.py:4924\u001b[0m, in \u001b[0;36mSeries.apply\u001b[1;34m(self, func, convert_dtype, args, by_row, **kwargs)\u001b[0m\n\u001b[0;32m   4789\u001b[0m \u001b[38;5;28;01mdef\u001b[39;00m \u001b[38;5;21mapply\u001b[39m(\n\u001b[0;32m   4790\u001b[0m     \u001b[38;5;28mself\u001b[39m,\n\u001b[0;32m   4791\u001b[0m     func: AggFuncType,\n\u001b[1;32m   (...)\u001b[0m\n\u001b[0;32m   4796\u001b[0m     \u001b[38;5;241m*\u001b[39m\u001b[38;5;241m*\u001b[39mkwargs,\n\u001b[0;32m   4797\u001b[0m ) \u001b[38;5;241m-\u001b[39m\u001b[38;5;241m>\u001b[39m DataFrame \u001b[38;5;241m|\u001b[39m Series:\n\u001b[0;32m   4798\u001b[0m \u001b[38;5;250m    \u001b[39m\u001b[38;5;124;03m\"\"\"\u001b[39;00m\n\u001b[0;32m   4799\u001b[0m \u001b[38;5;124;03m    Invoke function on values of Series.\u001b[39;00m\n\u001b[0;32m   4800\u001b[0m \n\u001b[1;32m   (...)\u001b[0m\n\u001b[0;32m   4915\u001b[0m \u001b[38;5;124;03m    dtype: float64\u001b[39;00m\n\u001b[0;32m   4916\u001b[0m \u001b[38;5;124;03m    \"\"\"\u001b[39;00m\n\u001b[0;32m   4917\u001b[0m     \u001b[38;5;28;01mreturn\u001b[39;00m \u001b[43mSeriesApply\u001b[49m\u001b[43m(\u001b[49m\n\u001b[0;32m   4918\u001b[0m \u001b[43m        \u001b[49m\u001b[38;5;28;43mself\u001b[39;49m\u001b[43m,\u001b[49m\n\u001b[0;32m   4919\u001b[0m \u001b[43m        \u001b[49m\u001b[43mfunc\u001b[49m\u001b[43m,\u001b[49m\n\u001b[0;32m   4920\u001b[0m \u001b[43m        \u001b[49m\u001b[43mconvert_dtype\u001b[49m\u001b[38;5;241;43m=\u001b[39;49m\u001b[43mconvert_dtype\u001b[49m\u001b[43m,\u001b[49m\n\u001b[0;32m   4921\u001b[0m \u001b[43m        \u001b[49m\u001b[43mby_row\u001b[49m\u001b[38;5;241;43m=\u001b[39;49m\u001b[43mby_row\u001b[49m\u001b[43m,\u001b[49m\n\u001b[0;32m   4922\u001b[0m \u001b[43m        \u001b[49m\u001b[43margs\u001b[49m\u001b[38;5;241;43m=\u001b[39;49m\u001b[43margs\u001b[49m\u001b[43m,\u001b[49m\n\u001b[0;32m   4923\u001b[0m \u001b[43m        \u001b[49m\u001b[43mkwargs\u001b[49m\u001b[38;5;241;43m=\u001b[39;49m\u001b[43mkwargs\u001b[49m\u001b[43m,\u001b[49m\n\u001b[1;32m-> 4924\u001b[0m \u001b[43m    \u001b[49m\u001b[43m)\u001b[49m\u001b[38;5;241;43m.\u001b[39;49m\u001b[43mapply\u001b[49m\u001b[43m(\u001b[49m\u001b[43m)\u001b[49m\n",
      "File \u001b[1;32m~\\AppData\\Roaming\\Python\\Python312\\site-packages\\pandas\\core\\apply.py:1427\u001b[0m, in \u001b[0;36mSeriesApply.apply\u001b[1;34m(self)\u001b[0m\n\u001b[0;32m   1424\u001b[0m     \u001b[38;5;28;01mreturn\u001b[39;00m \u001b[38;5;28mself\u001b[39m\u001b[38;5;241m.\u001b[39mapply_compat()\n\u001b[0;32m   1426\u001b[0m \u001b[38;5;66;03m# self.func is Callable\u001b[39;00m\n\u001b[1;32m-> 1427\u001b[0m \u001b[38;5;28;01mreturn\u001b[39;00m \u001b[38;5;28;43mself\u001b[39;49m\u001b[38;5;241;43m.\u001b[39;49m\u001b[43mapply_standard\u001b[49m\u001b[43m(\u001b[49m\u001b[43m)\u001b[49m\n",
      "File \u001b[1;32m~\\AppData\\Roaming\\Python\\Python312\\site-packages\\pandas\\core\\apply.py:1507\u001b[0m, in \u001b[0;36mSeriesApply.apply_standard\u001b[1;34m(self)\u001b[0m\n\u001b[0;32m   1501\u001b[0m \u001b[38;5;66;03m# row-wise access\u001b[39;00m\n\u001b[0;32m   1502\u001b[0m \u001b[38;5;66;03m# apply doesn't have a `na_action` keyword and for backward compat reasons\u001b[39;00m\n\u001b[0;32m   1503\u001b[0m \u001b[38;5;66;03m# we need to give `na_action=\"ignore\"` for categorical data.\u001b[39;00m\n\u001b[0;32m   1504\u001b[0m \u001b[38;5;66;03m# TODO: remove the `na_action=\"ignore\"` when that default has been changed in\u001b[39;00m\n\u001b[0;32m   1505\u001b[0m \u001b[38;5;66;03m#  Categorical (GH51645).\u001b[39;00m\n\u001b[0;32m   1506\u001b[0m action \u001b[38;5;241m=\u001b[39m \u001b[38;5;124m\"\u001b[39m\u001b[38;5;124mignore\u001b[39m\u001b[38;5;124m\"\u001b[39m \u001b[38;5;28;01mif\u001b[39;00m \u001b[38;5;28misinstance\u001b[39m(obj\u001b[38;5;241m.\u001b[39mdtype, CategoricalDtype) \u001b[38;5;28;01melse\u001b[39;00m \u001b[38;5;28;01mNone\u001b[39;00m\n\u001b[1;32m-> 1507\u001b[0m mapped \u001b[38;5;241m=\u001b[39m \u001b[43mobj\u001b[49m\u001b[38;5;241;43m.\u001b[39;49m\u001b[43m_map_values\u001b[49m\u001b[43m(\u001b[49m\n\u001b[0;32m   1508\u001b[0m \u001b[43m    \u001b[49m\u001b[43mmapper\u001b[49m\u001b[38;5;241;43m=\u001b[39;49m\u001b[43mcurried\u001b[49m\u001b[43m,\u001b[49m\u001b[43m \u001b[49m\u001b[43mna_action\u001b[49m\u001b[38;5;241;43m=\u001b[39;49m\u001b[43maction\u001b[49m\u001b[43m,\u001b[49m\u001b[43m \u001b[49m\u001b[43mconvert\u001b[49m\u001b[38;5;241;43m=\u001b[39;49m\u001b[38;5;28;43mself\u001b[39;49m\u001b[38;5;241;43m.\u001b[39;49m\u001b[43mconvert_dtype\u001b[49m\n\u001b[0;32m   1509\u001b[0m \u001b[43m\u001b[49m\u001b[43m)\u001b[49m\n\u001b[0;32m   1511\u001b[0m \u001b[38;5;28;01mif\u001b[39;00m \u001b[38;5;28mlen\u001b[39m(mapped) \u001b[38;5;129;01mand\u001b[39;00m \u001b[38;5;28misinstance\u001b[39m(mapped[\u001b[38;5;241m0\u001b[39m], ABCSeries):\n\u001b[0;32m   1512\u001b[0m     \u001b[38;5;66;03m# GH#43986 Need to do list(mapped) in order to get treated as nested\u001b[39;00m\n\u001b[0;32m   1513\u001b[0m     \u001b[38;5;66;03m#  See also GH#25959 regarding EA support\u001b[39;00m\n\u001b[0;32m   1514\u001b[0m     \u001b[38;5;28;01mreturn\u001b[39;00m obj\u001b[38;5;241m.\u001b[39m_constructor_expanddim(\u001b[38;5;28mlist\u001b[39m(mapped), index\u001b[38;5;241m=\u001b[39mobj\u001b[38;5;241m.\u001b[39mindex)\n",
      "File \u001b[1;32m~\\AppData\\Roaming\\Python\\Python312\\site-packages\\pandas\\core\\base.py:921\u001b[0m, in \u001b[0;36mIndexOpsMixin._map_values\u001b[1;34m(self, mapper, na_action, convert)\u001b[0m\n\u001b[0;32m    918\u001b[0m \u001b[38;5;28;01mif\u001b[39;00m \u001b[38;5;28misinstance\u001b[39m(arr, ExtensionArray):\n\u001b[0;32m    919\u001b[0m     \u001b[38;5;28;01mreturn\u001b[39;00m arr\u001b[38;5;241m.\u001b[39mmap(mapper, na_action\u001b[38;5;241m=\u001b[39mna_action)\n\u001b[1;32m--> 921\u001b[0m \u001b[38;5;28;01mreturn\u001b[39;00m \u001b[43malgorithms\u001b[49m\u001b[38;5;241;43m.\u001b[39;49m\u001b[43mmap_array\u001b[49m\u001b[43m(\u001b[49m\u001b[43marr\u001b[49m\u001b[43m,\u001b[49m\u001b[43m \u001b[49m\u001b[43mmapper\u001b[49m\u001b[43m,\u001b[49m\u001b[43m \u001b[49m\u001b[43mna_action\u001b[49m\u001b[38;5;241;43m=\u001b[39;49m\u001b[43mna_action\u001b[49m\u001b[43m,\u001b[49m\u001b[43m \u001b[49m\u001b[43mconvert\u001b[49m\u001b[38;5;241;43m=\u001b[39;49m\u001b[43mconvert\u001b[49m\u001b[43m)\u001b[49m\n",
      "File \u001b[1;32m~\\AppData\\Roaming\\Python\\Python312\\site-packages\\pandas\\core\\algorithms.py:1743\u001b[0m, in \u001b[0;36mmap_array\u001b[1;34m(arr, mapper, na_action, convert)\u001b[0m\n\u001b[0;32m   1741\u001b[0m values \u001b[38;5;241m=\u001b[39m arr\u001b[38;5;241m.\u001b[39mastype(\u001b[38;5;28mobject\u001b[39m, copy\u001b[38;5;241m=\u001b[39m\u001b[38;5;28;01mFalse\u001b[39;00m)\n\u001b[0;32m   1742\u001b[0m \u001b[38;5;28;01mif\u001b[39;00m na_action \u001b[38;5;129;01mis\u001b[39;00m \u001b[38;5;28;01mNone\u001b[39;00m:\n\u001b[1;32m-> 1743\u001b[0m     \u001b[38;5;28;01mreturn\u001b[39;00m \u001b[43mlib\u001b[49m\u001b[38;5;241;43m.\u001b[39;49m\u001b[43mmap_infer\u001b[49m\u001b[43m(\u001b[49m\u001b[43mvalues\u001b[49m\u001b[43m,\u001b[49m\u001b[43m \u001b[49m\u001b[43mmapper\u001b[49m\u001b[43m,\u001b[49m\u001b[43m \u001b[49m\u001b[43mconvert\u001b[49m\u001b[38;5;241;43m=\u001b[39;49m\u001b[43mconvert\u001b[49m\u001b[43m)\u001b[49m\n\u001b[0;32m   1744\u001b[0m \u001b[38;5;28;01melse\u001b[39;00m:\n\u001b[0;32m   1745\u001b[0m     \u001b[38;5;28;01mreturn\u001b[39;00m lib\u001b[38;5;241m.\u001b[39mmap_infer_mask(\n\u001b[0;32m   1746\u001b[0m         values, mapper, mask\u001b[38;5;241m=\u001b[39misna(values)\u001b[38;5;241m.\u001b[39mview(np\u001b[38;5;241m.\u001b[39muint8), convert\u001b[38;5;241m=\u001b[39mconvert\n\u001b[0;32m   1747\u001b[0m     )\n",
      "File \u001b[1;32mlib.pyx:2972\u001b[0m, in \u001b[0;36mpandas._libs.lib.map_infer\u001b[1;34m()\u001b[0m\n",
      "Cell \u001b[1;32mIn[60], line 1\u001b[0m, in \u001b[0;36m<lambda>\u001b[1;34m(x)\u001b[0m\n\u001b[1;32m----> 1\u001b[0m data[\u001b[38;5;124m\"\u001b[39m\u001b[38;5;124mtotal_sqft\u001b[39m\u001b[38;5;124m\"\u001b[39m] \u001b[38;5;241m=\u001b[39m data[\u001b[38;5;124m\"\u001b[39m\u001b[38;5;124mtotal_sqft\u001b[39m\u001b[38;5;124m\"\u001b[39m]\u001b[38;5;241m.\u001b[39mapply(\u001b[38;5;28;01mlambda\u001b[39;00m x : \u001b[38;5;28;43mint\u001b[39;49m\u001b[43m(\u001b[49m\u001b[43mx\u001b[49m\u001b[43m)\u001b[49m)\n",
      "\u001b[1;31mValueError\u001b[0m: invalid literal for int() with base 10: '2100 - 2850'"
     ]
    }
   ],
   "source": [
    "data[\"total_sqft\"] = data[\"total_sqft\"].apply(lambda x : int(x))"
   ]
  },
  {
   "cell_type": "code",
   "execution_count": 61,
   "id": "28cd681f",
   "metadata": {},
   "outputs": [],
   "source": [
    "# '2100 - 2850'  in the error i have seen that in our data vales like this so lets handle this  error"
   ]
  },
  {
   "cell_type": "code",
   "execution_count": 62,
   "id": "39ad2710",
   "metadata": {},
   "outputs": [],
   "source": [
    "def clean_total_sqft(x):\n",
    "    x = x.strip()\n",
    "    if \"-\" in x:\n",
    "        num = x.split(\"-\")\n",
    "        if len(num) == 2:\n",
    "            try:\n",
    "                return int((int(num[0])+int(num[1]))/2)\n",
    "            except ValueError:\n",
    "                return None\n",
    "    else :\n",
    "        try:\n",
    "            return int(x)\n",
    "        except ValueError:\n",
    "            return None"
   ]
  },
  {
   "cell_type": "code",
   "execution_count": 63,
   "id": "7f23f132-c24b-4313-a3b2-8ab297574f31",
   "metadata": {},
   "outputs": [],
   "source": [
    "data[\"total_sqft\"] = data[\"total_sqft\"].apply(clean_total_sqft)"
   ]
  },
  {
   "cell_type": "code",
   "execution_count": 64,
   "id": "57fcdbe8-0a67-4f7f-a9fc-1f3f28c32ea1",
   "metadata": {
    "scrolled": true
   },
   "outputs": [
    {
     "data": {
      "text/plain": [
       "[1200.0,\n",
       " 1100.0,\n",
       " 1500.0,\n",
       " 2400.0,\n",
       " 600.0,\n",
       " 1000.0,\n",
       " 1350.0,\n",
       " 1050.0,\n",
       " 1300.0,\n",
       " 1250.0,\n",
       " 900.0,\n",
       " 1400.0,\n",
       " 1800.0,\n",
       " 1150.0,\n",
       " 1600.0,\n",
       " 1140.0,\n",
       " 2000.0,\n",
       " 1450.0,\n",
       " 800.0,\n",
       " 1650.0,\n",
       " 1075.0,\n",
       " 3000.0,\n",
       " 1020.0,\n",
       " 2500.0,\n",
       " 1125.0,\n",
       " 1550.0,\n",
       " 1160.0,\n",
       " 1700.0,\n",
       " 950.0,\n",
       " 1260.0,\n",
       " 1180.0,\n",
       " 1255.0,\n",
       " 1220.0,\n",
       " 1080.0,\n",
       " 700.0,\n",
       " 1070.0,\n",
       " 750.0,\n",
       " 1225.0,\n",
       " 4000.0,\n",
       " 1175.0,\n",
       " 1320.0,\n",
       " 1240.0,\n",
       " 2100.0,\n",
       " 1060.0,\n",
       " 1230.0,\n",
       " 1210.0,\n",
       " 850.0,\n",
       " 1185.0,\n",
       " 1280.0,\n",
       " 1410.0,\n",
       " 1270.0,\n",
       " 1190.0,\n",
       " 1170.0,\n",
       " 1750.0,\n",
       " 1025.0,\n",
       " 1330.0,\n",
       " 1310.0,\n",
       " 1850.0,\n",
       " 1290.0,\n",
       " 1194.0,\n",
       " 1065.0,\n",
       " 1090.0,\n",
       " 1215.0,\n",
       " 1115.0,\n",
       " 500.0,\n",
       " 1360.0,\n",
       " 1530.0,\n",
       " 2700.0,\n",
       " 1120.0,\n",
       " 1900.0,\n",
       " 3500.0,\n",
       " 1464.0,\n",
       " 1340.0,\n",
       " 1430.0,\n",
       " 1560.0,\n",
       " 2200.0,\n",
       " 1205.0,\n",
       " 1035.0,\n",
       " 1165.0,\n",
       " 3600.0,\n",
       " 1128.0,\n",
       " 1130.0,\n",
       " 1355.0,\n",
       " 1145.0,\n",
       " 1275.0,\n",
       " 1040.0,\n",
       " 1155.0,\n",
       " 2800.0,\n",
       " 1420.0,\n",
       " 1105.0,\n",
       " 1680.0,\n",
       " 1590.0,\n",
       " 1760.0,\n",
       " 1460.0,\n",
       " 1216.0,\n",
       " 650.0,\n",
       " 1245.0,\n",
       " 1475.0,\n",
       " 1495.0,\n",
       " 1305.0,\n",
       " 1010.0,\n",
       " 2600.0,\n",
       " 1030.0,\n",
       " 1110.0,\n",
       " 1440.0,\n",
       " 1575.0,\n",
       " 883.0,\n",
       " 985.0,\n",
       " 1246.0,\n",
       " 1315.0,\n",
       " 1027.0,\n",
       " 5000.0,\n",
       " 1385.0,\n",
       " 1015.0,\n",
       " 1470.0,\n",
       " 1243.0,\n",
       " 3200.0,\n",
       " 1325.0,\n",
       " 925.0,\n",
       " 1370.0,\n",
       " 525.0,\n",
       " 1610.0,\n",
       " 550.0,\n",
       " 1570.0,\n",
       " 1390.0,\n",
       " 1480.0,\n",
       " 660.0,\n",
       " 1540.0,\n",
       " 1520.0,\n",
       " 1640.0,\n",
       " 1365.0,\n",
       " 1645.0,\n",
       " 2072.0,\n",
       " 920.0,\n",
       " 1195.0,\n",
       " 1265.0,\n",
       " 975.0,\n",
       " 1820.0,\n",
       " 1665.0,\n",
       " 1485.0,\n",
       " 1196.0,\n",
       " 940.0,\n",
       " 4800.0,\n",
       " 1525.0,\n",
       " 980.0,\n",
       " 1012.0,\n",
       " 1345.0,\n",
       " 1095.0,\n",
       " 1232.0,\n",
       " 960.0,\n",
       " 630.0,\n",
       " 1830.0,\n",
       " 1157.0,\n",
       " 1295.0,\n",
       " 1375.0,\n",
       " 400.0,\n",
       " 1425.0,\n",
       " 1950.0,\n",
       " 645.0,\n",
       " 1655.0,\n",
       " 935.0,\n",
       " 1580.0,\n",
       " 1197.0,\n",
       " 1235.0,\n",
       " 1720.0,\n",
       " 1135.0,\n",
       " 1418.0,\n",
       " 3300.0,\n",
       " 2300.0,\n",
       " 1045.0,\n",
       " 1490.0,\n",
       " 1153.0,\n",
       " 1740.0,\n",
       " 1085.0,\n",
       " 1285.0,\n",
       " 1380.0,\n",
       " 1630.0,\n",
       " 4500.0,\n",
       " 1660.0,\n",
       " 1920.0,\n",
       " 1116.0,\n",
       " 720.0,\n",
       " 1152.0,\n",
       " 450.0,\n",
       " 1141.0,\n",
       " 1005.0,\n",
       " 1730.0,\n",
       " 905.0,\n",
       " 675.0,\n",
       " 1445.0,\n",
       " 1625.0,\n",
       " 1595.0,\n",
       " 1510.0,\n",
       " 1710.0,\n",
       " 3900.0,\n",
       " 1875.0,\n",
       " 1690.0,\n",
       " 1282.0,\n",
       " 970.0,\n",
       " 1535.0,\n",
       " 1615.0,\n",
       " 1082.0,\n",
       " 840.0,\n",
       " 2250.0,\n",
       " 3800.0,\n",
       " 1314.0,\n",
       " 2215.0,\n",
       " 1339.0,\n",
       " 1404.0,\n",
       " 1033.0,\n",
       " 1435.0,\n",
       " 1890.0,\n",
       " 1455.0,\n",
       " 1639.0,\n",
       " 3100.0,\n",
       " 1565.0,\n",
       " 1405.0,\n",
       " 1843.0,\n",
       " 1691.0,\n",
       " 1056.0,\n",
       " 1296.0,\n",
       " 1007.0,\n",
       " 1162.0,\n",
       " 2900.0,\n",
       " 1151.0,\n",
       " 1252.0,\n",
       " 1804.0,\n",
       " 825.0,\n",
       " 2150.0,\n",
       " 1346.0,\n",
       " 845.0,\n",
       " 984.0,\n",
       " 1206.0,\n",
       " 965.0,\n",
       " 1685.0,\n",
       " 1174.0,\n",
       " 1515.0,\n",
       " 1452.0,\n",
       " 540.0,\n",
       " 1555.0,\n",
       " 1198.0,\n",
       " 705.0,\n",
       " 770.0,\n",
       " 620.0,\n",
       " 957.0,\n",
       " 918.0,\n",
       " 1620.0,\n",
       " 880.0,\n",
       " 3596.0,\n",
       " 995.0,\n",
       " 760.0,\n",
       " 4200.0,\n",
       " 3400.0,\n",
       " 1415.0,\n",
       " 1465.0,\n",
       " 1532.0,\n",
       " 1256.0,\n",
       " 1810.0,\n",
       " 1161.0,\n",
       " 1063.0,\n",
       " 1308.0,\n",
       " 1745.0,\n",
       " 2350.0,\n",
       " 930.0,\n",
       " 2475.0,\n",
       " 890.0,\n",
       " 1089.0,\n",
       " 780.0,\n",
       " 2750.0,\n",
       " 3250.0,\n",
       " 674.0,\n",
       " 1187.0,\n",
       " 3150.0,\n",
       " 1352.0,\n",
       " 680.0,\n",
       " 1476.0,\n",
       " 1790.0,\n",
       " 6000.0,\n",
       " 2180.0,\n",
       " 1277.0,\n",
       " 1047.0,\n",
       " 1222.0,\n",
       " 1725.0,\n",
       " 1756.0,\n",
       " 1693.0,\n",
       " 1335.0,\n",
       " 1186.0,\n",
       " 945.0,\n",
       " 1192.0,\n",
       " 2790.0,\n",
       " 1870.0,\n",
       " 1108.0,\n",
       " 1419.0,\n",
       " 1605.0,\n",
       " 1092.0,\n",
       " 1223.0,\n",
       " 1715.0,\n",
       " 1322.0,\n",
       " 1724.0,\n",
       " 910.0,\n",
       " 1224.0,\n",
       " 1113.0,\n",
       " 1482.0,\n",
       " 3750.0,\n",
       " 1156.0,\n",
       " 1447.0,\n",
       " 1705.0,\n",
       " 1299.0,\n",
       " 656.0,\n",
       " 1636.0,\n",
       " 1703.0,\n",
       " 1026.0,\n",
       " 2650.0,\n",
       " 3122.0,\n",
       " 1133.0,\n",
       " 5400.0,\n",
       " 1163.0,\n",
       " 1395.0,\n",
       " 2990.0,\n",
       " 1272.0,\n",
       " 2145.0,\n",
       " 990.0,\n",
       " 1132.0,\n",
       " 615.0,\n",
       " 1670.0,\n",
       " 1146.0,\n",
       " 1835.0,\n",
       " 1178.0,\n",
       " 875.0,\n",
       " 870.0,\n",
       " 1088.0,\n",
       " 1221.0,\n",
       " 4400.0,\n",
       " 812.0,\n",
       " 820.0,\n",
       " 1718.0,\n",
       " 1179.0,\n",
       " 1392.0,\n",
       " 2050.0,\n",
       " 1101.0,\n",
       " 1199.0,\n",
       " 1254.0,\n",
       " 1036.0,\n",
       " 1139.0,\n",
       " 1041.0,\n",
       " 1143.0,\n",
       " 982.0,\n",
       " 1564.0,\n",
       " 1840.0,\n",
       " 1262.0,\n",
       " 1306.0,\n",
       " 1183.0,\n",
       " 605.0,\n",
       " 1453.0,\n",
       " 1397.0,\n",
       " 1093.0,\n",
       " 1357.0,\n",
       " 1044.0,\n",
       " 1917.0,\n",
       " 708.0,\n",
       " 1112.0,\n",
       " 1096.0,\n",
       " 1427.0,\n",
       " 7500.0,\n",
       " 1276.0,\n",
       " 1342.0,\n",
       " 1583.0,\n",
       " 1847.0,\n",
       " 1242.0,\n",
       " 1374.0,\n",
       " 1166.0,\n",
       " 1545.0,\n",
       " 1069.0,\n",
       " 1349.0,\n",
       " 1762.0,\n",
       " 1910.0,\n",
       " 1880.0,\n",
       " 1251.0,\n",
       " 1508.0,\n",
       " 1313.0,\n",
       " 1662.0,\n",
       " 1102.0,\n",
       " 1512.0,\n",
       " 710.0,\n",
       " 1451.0,\n",
       " 1286.0,\n",
       " 1559.0,\n",
       " 3895.0,\n",
       " 1770.0,\n",
       " 520.0,\n",
       " 654.0,\n",
       " 610.0,\n",
       " 1303.0,\n",
       " 936.0,\n",
       " 1181.0,\n",
       " 1780.0,\n",
       " 2480.0,\n",
       " 2225.0,\n",
       " 1126.0,\n",
       " 530.0,\n",
       " 1274.0,\n",
       " 2275.0,\n",
       " 1278.0,\n",
       " 2425.0,\n",
       " 1142.0,\n",
       " 1719.0,\n",
       " 1755.0,\n",
       " 1257.0,\n",
       " 1372.0,\n",
       " 2010.0,\n",
       " 2040.0,\n",
       " 860.0,\n",
       " 1213.0,\n",
       " 1533.0,\n",
       " 440.0,\n",
       " 929.0,\n",
       " 1614.0,\n",
       " 1635.0,\n",
       " 1787.0,\n",
       " 1991.0,\n",
       " 924.0,\n",
       " 830.0,\n",
       " 1062.0,\n",
       " 907.0,\n",
       " 1016.0,\n",
       " 1484.0,\n",
       " 1893.0,\n",
       " 1697.0,\n",
       " 1411.0,\n",
       " 1656.0,\n",
       " 1541.0,\n",
       " 1785.0,\n",
       " 1333.0,\n",
       " 1664.0,\n",
       " 1053.0,\n",
       " 1304.0,\n",
       " 1028.0,\n",
       " 1107.0,\n",
       " 2774.0,\n",
       " 1268.0,\n",
       " 1855.0,\n",
       " 1173.0,\n",
       " 1856.0,\n",
       " 810.0,\n",
       " 1571.0,\n",
       " 1735.0,\n",
       " 1717.0,\n",
       " 1167.0,\n",
       " 1176.0,\n",
       " 1602.0,\n",
       " 1675.0,\n",
       " 1083.0,\n",
       " 625.0,\n",
       " 1362.0,\n",
       " 640.0,\n",
       " 1247.0,\n",
       " 2280.0,\n",
       " 1846.0,\n",
       " 1127.0,\n",
       " 933.0,\n",
       " 1936.0,\n",
       " 560.0,\n",
       " 2690.0,\n",
       " 7000.0,\n",
       " 1084.0,\n",
       " 1019.0,\n",
       " 1326.0,\n",
       " 775.0,\n",
       " 1573.0,\n",
       " 1297.0,\n",
       " 1231.0,\n",
       " 955.0,\n",
       " 1241.0,\n",
       " 1930.0,\n",
       " 1081.0,\n",
       " 2340.0,\n",
       " 2856.0,\n",
       " 1055.0,\n",
       " 1267.0,\n",
       " 1052.0,\n",
       " 2850.0,\n",
       " 1258.0,\n",
       " 4395.0,\n",
       " 2254.0,\n",
       " 1865.0,\n",
       " 1343.0,\n",
       " 1057.0,\n",
       " 1204.0,\n",
       " 1309.0,\n",
       " 2710.0,\n",
       " 4050.0,\n",
       " 1884.0,\n",
       " 1358.0,\n",
       " 1009.0,\n",
       " 1351.0,\n",
       " 1104.0,\n",
       " 1738.0,\n",
       " 1344.0,\n",
       " 740.0,\n",
       " 1683.0,\n",
       " 1586.0,\n",
       " 1458.0,\n",
       " 1457.0,\n",
       " 865.0,\n",
       " 510.0,\n",
       " 1868.0,\n",
       " 1408.0,\n",
       " 1148.0,\n",
       " 1354.0,\n",
       " 1654.0,\n",
       " 1444.0,\n",
       " 915.0,\n",
       " 635.0,\n",
       " 1329.0,\n",
       " 1798.0,\n",
       " 1765.0,\n",
       " 919.0,\n",
       " 1364.0,\n",
       " 1749.0,\n",
       " 1208.0,\n",
       " 1077.0,\n",
       " 1073.0,\n",
       " 1269.0,\n",
       " 1403.0,\n",
       " 1891.0,\n",
       " 1825.0,\n",
       " 1244.0,\n",
       " 1302.0,\n",
       " 420.0,\n",
       " 1293.0,\n",
       " 1076.0,\n",
       " 1505.0,\n",
       " 1935.0,\n",
       " 1436.0,\n",
       " 1585.0,\n",
       " 1925.0,\n",
       " 1754.0,\n",
       " 2119.0,\n",
       " 545.0,\n",
       " 1123.0,\n",
       " 715.0,\n",
       " 1328.0,\n",
       " 1732.0,\n",
       " 1253.0,\n",
       " 1567.0,\n",
       " 1098.0,\n",
       " 1188.0,\n",
       " 1184.0,\n",
       " 1022.0,\n",
       " 1109.0,\n",
       " 1031.0,\n",
       " 410.0,\n",
       " 1168.0,\n",
       " 1226.0,\n",
       " 1862.0,\n",
       " 1021.0,\n",
       " 1424.0,\n",
       " 1263.0,\n",
       " 2360.0,\n",
       " 1826.0,\n",
       " 1801.0,\n",
       " 1852.0,\n",
       " 665.0,\n",
       " 3450.0,\n",
       " 992.0,\n",
       " 1046.0,\n",
       " 1449.0,\n",
       " 1367.0,\n",
       " 602.0,\n",
       " 1172.0,\n",
       " 946.0,\n",
       " 1459.0,\n",
       " 993.0,\n",
       " 1203.0,\n",
       " 1111.0,\n",
       " 1592.0,\n",
       " 1837.0,\n",
       " 1236.0,\n",
       " 914.0,\n",
       " 755.0,\n",
       " 1134.0,\n",
       " 927.0,\n",
       " 2273.0,\n",
       " 3850.0,\n",
       " 877.0,\n",
       " 921.0,\n",
       " 1537.0,\n",
       " 1072.0,\n",
       " 2135.0,\n",
       " 1291.0,\n",
       " 1711.0,\n",
       " 902.0,\n",
       " 360.0,\n",
       " 3520.0,\n",
       " 972.0,\n",
       " 1201.0,\n",
       " 1929.0,\n",
       " 1238.0,\n",
       " 1776.0,\n",
       " 2070.0,\n",
       " 2640.0,\n",
       " 1334.0,\n",
       " 12000.0,\n",
       " 8000.0,\n",
       " 1616.0,\n",
       " 1795.0,\n",
       " 1158.0,\n",
       " 1067.0,\n",
       " 1318.0,\n",
       " 1708.0,\n",
       " 1494.0,\n",
       " 4750.0,\n",
       " 418.0,\n",
       " 497.0,\n",
       " 1138.0,\n",
       " 10000.0,\n",
       " 1219.0,\n",
       " 861.0,\n",
       " 1980.0,\n",
       " 1051.0,\n",
       " 1698.0,\n",
       " 966.0,\n",
       " 4100.0,\n",
       " 1885.0,\n",
       " 2160.0,\n",
       " 1608.0,\n",
       " 1975.0,\n",
       " 1563.0,\n",
       " 1806.0,\n",
       " 1234.0,\n",
       " 1332.0,\n",
       " 1938.0,\n",
       " 1034.0,\n",
       " 662.0,\n",
       " 1149.0,\n",
       " 1074.0,\n",
       " 2760.0,\n",
       " 1279.0,\n",
       " 1059.0,\n",
       " 1767.0,\n",
       " 1394.0,\n",
       " 3700.0,\n",
       " 460.0,\n",
       " 1118.0,\n",
       " 1976.0,\n",
       " 2065.0,\n",
       " 416.0,\n",
       " 884.0,\n",
       " 967.0,\n",
       " 795.0,\n",
       " 1037.0,\n",
       " 1312.0,\n",
       " 1207.0,\n",
       " 1842.0,\n",
       " 1517.0,\n",
       " 1466.0,\n",
       " 1695.0,\n",
       " 580.0,\n",
       " 595.0,\n",
       " 1091.0,\n",
       " 2830.0,\n",
       " 2560.0,\n",
       " 1611.0,\n",
       " 1432.0,\n",
       " 1061.0,\n",
       " 2439.0,\n",
       " 1259.0,\n",
       " 996.0,\n",
       " 1386.0,\n",
       " 1596.0,\n",
       " 3436.0,\n",
       " 1864.0,\n",
       " 3385.0,\n",
       " 1881.0,\n",
       " 1569.0,\n",
       " 1933.0,\n",
       " 1521.0,\n",
       " 1504.0,\n",
       " 1079.0,\n",
       " 2450.0,\n",
       " 814.0,\n",
       " 1407.0,\n",
       " 1702.0,\n",
       " 1904.0,\n",
       " 2240.0,\n",
       " 1489.0,\n",
       " 1202.0,\n",
       " 1965.0,\n",
       " 1169.0,\n",
       " 1008.0,\n",
       " 1058.0,\n",
       " 1634.0,\n",
       " 2805.0,\n",
       " 1171.0,\n",
       " 1945.0,\n",
       " 1353.0,\n",
       " 3730.0,\n",
       " 2020.0,\n",
       " 1832.0,\n",
       " 670.0,\n",
       " 1382.0,\n",
       " 1003.0,\n",
       " 1086.0,\n",
       " 1706.0,\n",
       " 1588.0,\n",
       " 1212.0,\n",
       " 1182.0,\n",
       " 937.0,\n",
       " 1137.0,\n",
       " 1576.0,\n",
       " 1896.0,\n",
       " 1527.0,\n",
       " 648.0,\n",
       " 2062.0,\n",
       " 1553.0,\n",
       " 829.0,\n",
       " 2017.0,\n",
       " 1653.0,\n",
       " 1817.0,\n",
       " 1672.0,\n",
       " 1398.0,\n",
       " 1147.0,\n",
       " 1307.0,\n",
       " 435.0,\n",
       " 9600.0,\n",
       " 958.0,\n",
       " 1845.0,\n",
       " 664.0,\n",
       " 1011.0,\n",
       " 1839.0,\n",
       " 2882.0,\n",
       " 1603.0,\n",
       " 2503.0,\n",
       " 1448.0,\n",
       " 1531.0,\n",
       " 2357.0,\n",
       " 1428.0,\n",
       " 3035.0,\n",
       " 1539.0,\n",
       " 1018.0,\n",
       " 1858.0,\n",
       " 661.0,\n",
       " 1942.0,\n",
       " 790.0,\n",
       " 1751.0,\n",
       " 1311.0,\n",
       " 703.0,\n",
       " 1788.0,\n",
       " 923.0,\n",
       " 1692.0,\n",
       " 1536.0,\n",
       " 1819.0,\n",
       " 1707.0,\n",
       " 1124.0,\n",
       " 745.0,\n",
       " 1301.0,\n",
       " 1097.0,\n",
       " 1594.0,\n",
       " 2559.0,\n",
       " 2732.0,\n",
       " 6200.0,\n",
       " 2770.0,\n",
       " 1478.0,\n",
       " 1144.0,\n",
       " 3067.0,\n",
       " 3526.0,\n",
       " 1164.0,\n",
       " 3155.0,\n",
       " 575.0,\n",
       " 1043.0,\n",
       " 2257.0,\n",
       " 2289.0,\n",
       " 1591.0,\n",
       " 1336.0,\n",
       " 693.0,\n",
       " 909.0,\n",
       " 1513.0,\n",
       " 1071.0,\n",
       " 2080.0,\n",
       " 690.0,\n",
       " 1518.0,\n",
       " 2061.0,\n",
       " 2502.0,\n",
       " 1209.0,\n",
       " 782.0,\n",
       " 480.0,\n",
       " 2095.0,\n",
       " 2470.0,\n",
       " 1496.0,\n",
       " 1860.0,\n",
       " 1154.0,\n",
       " 1726.0,\n",
       " 1897.0,\n",
       " 823.0,\n",
       " 1356.0,\n",
       " 1652.0,\n",
       " 1853.0,\n",
       " 5100.0,\n",
       " 1566.0,\n",
       " 3050.0,\n",
       " 1903.0,\n",
       " 1066.0,\n",
       " 1682.0,\n",
       " 7200.0,\n",
       " 2325.0,\n",
       " 1431.0,\n",
       " 1960.0,\n",
       " 1984.0,\n",
       " 2292.0,\n",
       " 1384.0,\n",
       " 1713.0,\n",
       " 1621.0,\n",
       " 1233.0,\n",
       " 1024.0,\n",
       " 565.0,\n",
       " 971.0,\n",
       " 3335.0,\n",
       " 1523.0,\n",
       " 1117.0,\n",
       " 1985.0,\n",
       " 1039.0,\n",
       " 1694.0,\n",
       " 1779.0,\n",
       " 735.0,\n",
       " 2230.0,\n",
       " 2367.0,\n",
       " 2610.0,\n",
       " 1768.0,\n",
       " 1599.0,\n",
       " 1584.0,\n",
       " 994.0,\n",
       " 1426.0,\n",
       " 375.0,\n",
       " 702.0,\n",
       " 805.0,\n",
       " 1644.0,\n",
       " 1577.0,\n",
       " 4111.0,\n",
       " 2483.0,\n",
       " 3252.0,\n",
       " 1017.0,\n",
       " 2390.0,\n",
       " 1129.0,\n",
       " 1919.0,\n",
       " 1341.0,\n",
       " 4600.0,\n",
       " 425.0,\n",
       " 2330.0,\n",
       " 3205.0,\n",
       " 1032.0,\n",
       " 1094.0,\n",
       " 2264.0,\n",
       " 1491.0,\n",
       " 6500.0,\n",
       " 2144.0,\n",
       " 663.0,\n",
       " 1704.0,\n",
       " 711.0,\n",
       " 1783.0,\n",
       " 2440.0,\n",
       " 891.0,\n",
       " 2060.0,\n",
       " 912.0,\n",
       " 1006.0,\n",
       " 2940.0,\n",
       " 1191.0,\n",
       " 1477.0,\n",
       " 1068.0,\n",
       " 1227.0,\n",
       " 1632.0,\n",
       " 827.0,\n",
       " 672.0,\n",
       " 1758.0,\n",
       " 3040.0,\n",
       " 1294.0,\n",
       " 3630.0,\n",
       " 2880.0,\n",
       " 1498.0,\n",
       " 1488.0,\n",
       " 1416.0,\n",
       " 2550.0,\n",
       " 2159.0,\n",
       " 1347.0,\n",
       " 1469.0,\n",
       " 1737.0,\n",
       " 2422.0,\n",
       " 1121.0,\n",
       " 1678.0,\n",
       " 658.0,\n",
       " 3715.0,\n",
       " 1689.0,\n",
       " 1626.0,\n",
       " 896.0,\n",
       " 999.0,\n",
       " 1519.0,\n",
       " 2099.0,\n",
       " 3210.0,\n",
       " 2106.0,\n",
       " 1805.0,\n",
       " 1237.0,\n",
       " 815.0,\n",
       " 1442.0,\n",
       " 1348.0,\n",
       " 2375.0,\n",
       " 1786.0,\n",
       " 2403.0,\n",
       " 835.0,\n",
       " 4700.0,\n",
       " 849.0,\n",
       " 350.0,\n",
       " 2111.0,\n",
       " 1414.0,\n",
       " 1633.0,\n",
       " 922.0,\n",
       " 2585.0,\n",
       " 2030.0,\n",
       " 1368.0,\n",
       " 1752.0,\n",
       " 1371.0,\n",
       " 709.0,\n",
       " 3785.0,\n",
       " 952.0,\n",
       " 614.0,\n",
       " 2140.0,\n",
       " 1103.0,\n",
       " 1721.0,\n",
       " 2266.0,\n",
       " 1836.0,\n",
       " 986.0,\n",
       " 1516.0,\n",
       " 3004.0,\n",
       " 458.0,\n",
       " 2648.0,\n",
       " 1298.0,\n",
       " 973.0,\n",
       " 1827.0,\n",
       " 4920.0,\n",
       " 535.0,\n",
       " 1607.0,\n",
       " 938.0,\n",
       " 1434.0,\n",
       " 991.0,\n",
       " 2302.0,\n",
       " 4303.0,\n",
       " 1643.0,\n",
       " 1211.0,\n",
       " 1679.0,\n",
       " 612.0,\n",
       " 1159.0,\n",
       " 2950.0,\n",
       " 3418.0,\n",
       " 1623.0,\n",
       " 3262.0,\n",
       " 1136.0,\n",
       " 633.0,\n",
       " 1319.0,\n",
       " 3508.0,\n",
       " 1441.0,\n",
       " 2214.0,\n",
       " 1376.0,\n",
       " 1423.0,\n",
       " 3009.0,\n",
       " 3940.0,\n",
       " 3420.0,\n",
       " 3758.0,\n",
       " 2569.0,\n",
       " 1214.0,\n",
       " 1538.0,\n",
       " 725.0,\n",
       " 1106.0,\n",
       " 1844.0,\n",
       " 3626.0,\n",
       " 1601.0,\n",
       " 1023.0,\n",
       " 3216.0,\n",
       " 1914.0,\n",
       " 1684.0,\n",
       " 747.0,\n",
       " 2388.0,\n",
       " 4250.0,\n",
       " 2047.0,\n",
       " 2658.0,\n",
       " 1667.0,\n",
       " 2675.0,\n",
       " 2172.0,\n",
       " 6652.0,\n",
       " 1789.0,\n",
       " 646.0,\n",
       " 570.0,\n",
       " 2456.0,\n",
       " 1948.0,\n",
       " 2210.0,\n",
       " 2051.0,\n",
       " 1409.0,\n",
       " 655.0,\n",
       " 552.0,\n",
       " 1581.0,\n",
       " 876.0,\n",
       " 1261.0,\n",
       " 1454.0,\n",
       " ...]"
      ]
     },
     "execution_count": 64,
     "metadata": {},
     "output_type": "execute_result"
    }
   ],
   "source": [
    "data[\"total_sqft\"].value_counts().index.tolist()"
   ]
  },
  {
   "cell_type": "markdown",
   "id": "58c142b3-df7b-4d1e-857e-9cb83494aaa4",
   "metadata": {},
   "source": [
    "# bath"
   ]
  },
  {
   "cell_type": "code",
   "execution_count": 65,
   "id": "7621489a-0312-4fba-8e10-76bb53e51946",
   "metadata": {},
   "outputs": [
    {
     "data": {
      "text/plain": [
       "73"
      ]
     },
     "execution_count": 65,
     "metadata": {},
     "output_type": "execute_result"
    }
   ],
   "source": [
    "data[\"bath\"].isnull().sum()"
   ]
  },
  {
   "cell_type": "code",
   "execution_count": 66,
   "id": "107793c6-340b-452c-a70d-140feea9604e",
   "metadata": {},
   "outputs": [
    {
     "name": "stderr",
     "output_type": "stream",
     "text": [
      "C:\\Users\\muneeb ur rehman\\AppData\\Local\\Temp\\ipykernel_23448\\3374748851.py:1: FutureWarning: A value is trying to be set on a copy of a DataFrame or Series through chained assignment using an inplace method.\n",
      "The behavior will change in pandas 3.0. This inplace method will never work because the intermediate object on which we are setting values always behaves as a copy.\n",
      "\n",
      "For example, when doing 'df[col].method(value, inplace=True)', try using 'df.method({col: value}, inplace=True)' or df[col] = df[col].method(value) instead, to perform the operation inplace on the original object.\n",
      "\n",
      "\n",
      "  data[\"bath\"].fillna(data[\"bath\"].median(),inplace=True)\n"
     ]
    }
   ],
   "source": [
    "data[\"bath\"].fillna(data[\"bath\"].median(),inplace=True)"
   ]
  },
  {
   "cell_type": "code",
   "execution_count": 67,
   "id": "8af7a31c-d0c1-4e81-85e6-69a481ef4228",
   "metadata": {},
   "outputs": [
    {
     "data": {
      "text/plain": [
       "0"
      ]
     },
     "execution_count": 67,
     "metadata": {},
     "output_type": "execute_result"
    }
   ],
   "source": [
    "data[\"bath\"].isnull().sum()"
   ]
  },
  {
   "cell_type": "code",
   "execution_count": 68,
   "id": "0969424d-4db7-449a-aee8-ec51b910e68b",
   "metadata": {},
   "outputs": [
    {
     "data": {
      "text/plain": [
       "bath\n",
       "2.0     6981\n",
       "3.0     3286\n",
       "4.0     1226\n",
       "1.0      788\n",
       "5.0      524\n",
       "6.0      273\n",
       "7.0      102\n",
       "8.0       64\n",
       "9.0       43\n",
       "10.0      13\n",
       "12.0       7\n",
       "13.0       3\n",
       "11.0       3\n",
       "16.0       2\n",
       "27.0       1\n",
       "40.0       1\n",
       "15.0       1\n",
       "14.0       1\n",
       "18.0       1\n",
       "Name: count, dtype: int64"
      ]
     },
     "execution_count": 68,
     "metadata": {},
     "output_type": "execute_result"
    }
   ],
   "source": [
    "data[\"bath\"].value_counts()"
   ]
  },
  {
   "cell_type": "markdown",
   "id": "122cfd59-1129-459d-8ee0-859d5a547b55",
   "metadata": {},
   "source": [
    "# balcony"
   ]
  },
  {
   "cell_type": "code",
   "execution_count": 69,
   "id": "8d06966f-a6bb-4b36-9612-596e2dc0742e",
   "metadata": {},
   "outputs": [
    {
     "data": {
      "text/plain": [
       "609"
      ]
     },
     "execution_count": 69,
     "metadata": {},
     "output_type": "execute_result"
    }
   ],
   "source": [
    "data[\"balcony\"].isnull().sum()"
   ]
  },
  {
   "cell_type": "code",
   "execution_count": 70,
   "id": "81d4b5dd-e44d-4709-8731-ba84d5036306",
   "metadata": {},
   "outputs": [
    {
     "data": {
      "text/plain": [
       "balcony\n",
       "2.0    5113\n",
       "1.0    4897\n",
       "3.0    1672\n",
       "0.0    1029\n",
       "Name: count, dtype: int64"
      ]
     },
     "execution_count": 70,
     "metadata": {},
     "output_type": "execute_result"
    }
   ],
   "source": [
    "data[\"balcony\"].value_counts()"
   ]
  },
  {
   "cell_type": "code",
   "execution_count": 71,
   "id": "1dfcca32-b0f3-427e-9810-ba7671e39883",
   "metadata": {},
   "outputs": [
    {
     "name": "stderr",
     "output_type": "stream",
     "text": [
      "C:\\Users\\muneeb ur rehman\\AppData\\Local\\Temp\\ipykernel_23448\\4067309864.py:1: FutureWarning: A value is trying to be set on a copy of a DataFrame or Series through chained assignment using an inplace method.\n",
      "The behavior will change in pandas 3.0. This inplace method will never work because the intermediate object on which we are setting values always behaves as a copy.\n",
      "\n",
      "For example, when doing 'df[col].method(value, inplace=True)', try using 'df.method({col: value}, inplace=True)' or df[col] = df[col].method(value) instead, to perform the operation inplace on the original object.\n",
      "\n",
      "\n",
      "  data[\"balcony\"].fillna(data[\"balcony\"].mode()[0], inplace=True)\n"
     ]
    }
   ],
   "source": [
    "data[\"balcony\"].fillna(data[\"balcony\"].mode()[0], inplace=True)"
   ]
  },
  {
   "cell_type": "code",
   "execution_count": 72,
   "id": "5bc83887-2c03-487d-b0fe-ebed9ce2bea1",
   "metadata": {},
   "outputs": [
    {
     "data": {
      "text/plain": [
       "0"
      ]
     },
     "execution_count": 72,
     "metadata": {},
     "output_type": "execute_result"
    }
   ],
   "source": [
    "data[\"balcony\"].isnull().sum()"
   ]
  },
  {
   "cell_type": "code",
   "execution_count": 73,
   "id": "9dcefacf",
   "metadata": {},
   "outputs": [
    {
     "data": {
      "text/plain": [
       "balcony\n",
       "2.0    5722\n",
       "1.0    4897\n",
       "3.0    1672\n",
       "0.0    1029\n",
       "Name: count, dtype: int64"
      ]
     },
     "execution_count": 73,
     "metadata": {},
     "output_type": "execute_result"
    }
   ],
   "source": [
    "data[\"balcony\"].value_counts()"
   ]
  },
  {
   "cell_type": "markdown",
   "id": "e2cb02cd-70d6-4b5a-8e3c-d0e4fcc5eea9",
   "metadata": {},
   "source": [
    "# price"
   ]
  },
  {
   "cell_type": "code",
   "execution_count": 74,
   "id": "95ffe519-70ae-48a9-bd77-00660b2c0162",
   "metadata": {},
   "outputs": [
    {
     "data": {
      "text/plain": [
       "0"
      ]
     },
     "execution_count": 74,
     "metadata": {},
     "output_type": "execute_result"
    }
   ],
   "source": [
    "data[\"price\"].isnull().sum()"
   ]
  },
  {
   "cell_type": "code",
   "execution_count": 75,
   "id": "54a9e693-26db-45fb-9ba2-556d4668b375",
   "metadata": {},
   "outputs": [
    {
     "name": "stdout",
     "output_type": "stream",
     "text": [
      "<class 'pandas.core.frame.DataFrame'>\n",
      "RangeIndex: 13320 entries, 0 to 13319\n",
      "Data columns (total 9 columns):\n",
      " #   Column        Non-Null Count  Dtype  \n",
      "---  ------        --------------  -----  \n",
      " 0   area_type     13320 non-null  object \n",
      " 1   availability  13320 non-null  object \n",
      " 2   location      13320 non-null  object \n",
      " 3   size          13320 non-null  object \n",
      " 4   total_sqft    13182 non-null  float64\n",
      " 5   bath          13320 non-null  float64\n",
      " 6   balcony       13320 non-null  float64\n",
      " 7   price         13320 non-null  float64\n",
      " 8   BHK           13320 non-null  int64  \n",
      "dtypes: float64(4), int64(1), object(4)\n",
      "memory usage: 936.7+ KB\n"
     ]
    }
   ],
   "source": [
    "data.info()"
   ]
  },
  {
   "cell_type": "code",
   "execution_count": 83,
   "id": "73edbf26-e0e4-4ed2-b282-17acc7c0453a",
   "metadata": {},
   "outputs": [],
   "source": [
    "# saved this clean data into another csv file\n",
    "data.to_csv(\"clean_data_house.csv\",index=False)"
   ]
  },
  {
   "cell_type": "markdown",
   "id": "95c77cdf-1cb1-4872-a3ed-89324b5215fc",
   "metadata": {},
   "source": [
    "# so now data cleaning has been done now do data preprocessing "
   ]
  },
  {
   "cell_type": "code",
   "execution_count": 92,
   "id": "86eb178c-0adb-4ede-bfc6-e1212251f4d8",
   "metadata": {},
   "outputs": [],
   "source": [
    "df = pd.read_csv(\"clean_data_house.csv\")"
   ]
  },
  {
   "cell_type": "code",
   "execution_count": 93,
   "id": "8208adea-2fd1-40cc-9664-fcd499e3ad71",
   "metadata": {},
   "outputs": [
    {
     "data": {
      "text/html": [
       "<div>\n",
       "<style scoped>\n",
       "    .dataframe tbody tr th:only-of-type {\n",
       "        vertical-align: middle;\n",
       "    }\n",
       "\n",
       "    .dataframe tbody tr th {\n",
       "        vertical-align: top;\n",
       "    }\n",
       "\n",
       "    .dataframe thead th {\n",
       "        text-align: right;\n",
       "    }\n",
       "</style>\n",
       "<table border=\"1\" class=\"dataframe\">\n",
       "  <thead>\n",
       "    <tr style=\"text-align: right;\">\n",
       "      <th></th>\n",
       "      <th>area_type</th>\n",
       "      <th>availability</th>\n",
       "      <th>location</th>\n",
       "      <th>size</th>\n",
       "      <th>total_sqft</th>\n",
       "      <th>bath</th>\n",
       "      <th>balcony</th>\n",
       "      <th>price</th>\n",
       "      <th>BHK</th>\n",
       "    </tr>\n",
       "  </thead>\n",
       "  <tbody>\n",
       "    <tr>\n",
       "      <th>0</th>\n",
       "      <td>Super built-up  Area</td>\n",
       "      <td>Dec</td>\n",
       "      <td>Electronic City Phase II</td>\n",
       "      <td>2 BHK</td>\n",
       "      <td>1056.0</td>\n",
       "      <td>2.0</td>\n",
       "      <td>1.0</td>\n",
       "      <td>39.07</td>\n",
       "      <td>2</td>\n",
       "    </tr>\n",
       "    <tr>\n",
       "      <th>1</th>\n",
       "      <td>Plot  Area</td>\n",
       "      <td>Ready To Move</td>\n",
       "      <td>others</td>\n",
       "      <td>4 Bedroom</td>\n",
       "      <td>2600.0</td>\n",
       "      <td>5.0</td>\n",
       "      <td>3.0</td>\n",
       "      <td>120.00</td>\n",
       "      <td>4</td>\n",
       "    </tr>\n",
       "    <tr>\n",
       "      <th>2</th>\n",
       "      <td>Built-up  Area</td>\n",
       "      <td>Ready To Move</td>\n",
       "      <td>Uttarahalli</td>\n",
       "      <td>3 BHK</td>\n",
       "      <td>1440.0</td>\n",
       "      <td>2.0</td>\n",
       "      <td>3.0</td>\n",
       "      <td>62.00</td>\n",
       "      <td>3</td>\n",
       "    </tr>\n",
       "    <tr>\n",
       "      <th>3</th>\n",
       "      <td>Super built-up  Area</td>\n",
       "      <td>Ready To Move</td>\n",
       "      <td>Lingadheeranahalli</td>\n",
       "      <td>3 BHK</td>\n",
       "      <td>1521.0</td>\n",
       "      <td>3.0</td>\n",
       "      <td>1.0</td>\n",
       "      <td>95.00</td>\n",
       "      <td>3</td>\n",
       "    </tr>\n",
       "    <tr>\n",
       "      <th>4</th>\n",
       "      <td>Super built-up  Area</td>\n",
       "      <td>Ready To Move</td>\n",
       "      <td>Kothanur</td>\n",
       "      <td>2 BHK</td>\n",
       "      <td>1200.0</td>\n",
       "      <td>2.0</td>\n",
       "      <td>1.0</td>\n",
       "      <td>51.00</td>\n",
       "      <td>2</td>\n",
       "    </tr>\n",
       "    <tr>\n",
       "      <th>...</th>\n",
       "      <td>...</td>\n",
       "      <td>...</td>\n",
       "      <td>...</td>\n",
       "      <td>...</td>\n",
       "      <td>...</td>\n",
       "      <td>...</td>\n",
       "      <td>...</td>\n",
       "      <td>...</td>\n",
       "      <td>...</td>\n",
       "    </tr>\n",
       "    <tr>\n",
       "      <th>13315</th>\n",
       "      <td>Built-up  Area</td>\n",
       "      <td>Ready To Move</td>\n",
       "      <td>Whitefield</td>\n",
       "      <td>5 Bedroom</td>\n",
       "      <td>3453.0</td>\n",
       "      <td>4.0</td>\n",
       "      <td>0.0</td>\n",
       "      <td>231.00</td>\n",
       "      <td>5</td>\n",
       "    </tr>\n",
       "    <tr>\n",
       "      <th>13316</th>\n",
       "      <td>Super built-up  Area</td>\n",
       "      <td>Ready To Move</td>\n",
       "      <td>others</td>\n",
       "      <td>4 BHK</td>\n",
       "      <td>3600.0</td>\n",
       "      <td>5.0</td>\n",
       "      <td>2.0</td>\n",
       "      <td>400.00</td>\n",
       "      <td>4</td>\n",
       "    </tr>\n",
       "    <tr>\n",
       "      <th>13317</th>\n",
       "      <td>Built-up  Area</td>\n",
       "      <td>Ready To Move</td>\n",
       "      <td>Raja Rajeshwari Nagar</td>\n",
       "      <td>2 BHK</td>\n",
       "      <td>1141.0</td>\n",
       "      <td>2.0</td>\n",
       "      <td>1.0</td>\n",
       "      <td>60.00</td>\n",
       "      <td>2</td>\n",
       "    </tr>\n",
       "    <tr>\n",
       "      <th>13318</th>\n",
       "      <td>Super built-up  Area</td>\n",
       "      <td>Jun</td>\n",
       "      <td>Padmanabhanagar</td>\n",
       "      <td>4 BHK</td>\n",
       "      <td>4689.0</td>\n",
       "      <td>4.0</td>\n",
       "      <td>1.0</td>\n",
       "      <td>488.00</td>\n",
       "      <td>4</td>\n",
       "    </tr>\n",
       "    <tr>\n",
       "      <th>13319</th>\n",
       "      <td>Super built-up  Area</td>\n",
       "      <td>Ready To Move</td>\n",
       "      <td>Doddathoguru</td>\n",
       "      <td>1 BHK</td>\n",
       "      <td>550.0</td>\n",
       "      <td>1.0</td>\n",
       "      <td>1.0</td>\n",
       "      <td>17.00</td>\n",
       "      <td>1</td>\n",
       "    </tr>\n",
       "  </tbody>\n",
       "</table>\n",
       "<p>13320 rows × 9 columns</p>\n",
       "</div>"
      ],
      "text/plain": [
       "                  area_type   availability                  location  \\\n",
       "0      Super built-up  Area            Dec  Electronic City Phase II   \n",
       "1                Plot  Area  Ready To Move                    others   \n",
       "2            Built-up  Area  Ready To Move               Uttarahalli   \n",
       "3      Super built-up  Area  Ready To Move        Lingadheeranahalli   \n",
       "4      Super built-up  Area  Ready To Move                  Kothanur   \n",
       "...                     ...            ...                       ...   \n",
       "13315        Built-up  Area  Ready To Move                Whitefield   \n",
       "13316  Super built-up  Area  Ready To Move                    others   \n",
       "13317        Built-up  Area  Ready To Move     Raja Rajeshwari Nagar   \n",
       "13318  Super built-up  Area            Jun           Padmanabhanagar   \n",
       "13319  Super built-up  Area  Ready To Move              Doddathoguru   \n",
       "\n",
       "            size  total_sqft  bath  balcony   price  BHK  \n",
       "0          2 BHK      1056.0   2.0      1.0   39.07    2  \n",
       "1      4 Bedroom      2600.0   5.0      3.0  120.00    4  \n",
       "2          3 BHK      1440.0   2.0      3.0   62.00    3  \n",
       "3          3 BHK      1521.0   3.0      1.0   95.00    3  \n",
       "4          2 BHK      1200.0   2.0      1.0   51.00    2  \n",
       "...          ...         ...   ...      ...     ...  ...  \n",
       "13315  5 Bedroom      3453.0   4.0      0.0  231.00    5  \n",
       "13316      4 BHK      3600.0   5.0      2.0  400.00    4  \n",
       "13317      2 BHK      1141.0   2.0      1.0   60.00    2  \n",
       "13318      4 BHK      4689.0   4.0      1.0  488.00    4  \n",
       "13319      1 BHK       550.0   1.0      1.0   17.00    1  \n",
       "\n",
       "[13320 rows x 9 columns]"
      ]
     },
     "execution_count": 93,
     "metadata": {},
     "output_type": "execute_result"
    }
   ],
   "source": [
    "df"
   ]
  },
  {
   "cell_type": "code",
   "execution_count": 94,
   "id": "d10c6fd4-02de-4992-b6a4-899ce3da38bb",
   "metadata": {},
   "outputs": [
    {
     "name": "stdout",
     "output_type": "stream",
     "text": [
      "<class 'pandas.core.frame.DataFrame'>\n",
      "RangeIndex: 13320 entries, 0 to 13319\n",
      "Data columns (total 9 columns):\n",
      " #   Column        Non-Null Count  Dtype  \n",
      "---  ------        --------------  -----  \n",
      " 0   area_type     13320 non-null  object \n",
      " 1   availability  13320 non-null  object \n",
      " 2   location      13320 non-null  object \n",
      " 3   size          13320 non-null  object \n",
      " 4   total_sqft    13182 non-null  float64\n",
      " 5   bath          13320 non-null  float64\n",
      " 6   balcony       13320 non-null  float64\n",
      " 7   price         13320 non-null  float64\n",
      " 8   BHK           13320 non-null  int64  \n",
      "dtypes: float64(4), int64(1), object(4)\n",
      "memory usage: 936.7+ KB\n"
     ]
    }
   ],
   "source": [
    "df.info()"
   ]
  },
  {
   "cell_type": "code",
   "execution_count": 95,
   "id": "1f5720b0-3c52-4702-b8b4-00aef75b89e2",
   "metadata": {},
   "outputs": [
    {
     "data": {
      "text/html": [
       "<div>\n",
       "<style scoped>\n",
       "    .dataframe tbody tr th:only-of-type {\n",
       "        vertical-align: middle;\n",
       "    }\n",
       "\n",
       "    .dataframe tbody tr th {\n",
       "        vertical-align: top;\n",
       "    }\n",
       "\n",
       "    .dataframe thead th {\n",
       "        text-align: right;\n",
       "    }\n",
       "</style>\n",
       "<table border=\"1\" class=\"dataframe\">\n",
       "  <thead>\n",
       "    <tr style=\"text-align: right;\">\n",
       "      <th></th>\n",
       "      <th>area_type</th>\n",
       "      <th>availability</th>\n",
       "      <th>location</th>\n",
       "      <th>size</th>\n",
       "      <th>total_sqft</th>\n",
       "      <th>bath</th>\n",
       "      <th>balcony</th>\n",
       "      <th>price</th>\n",
       "      <th>BHK</th>\n",
       "    </tr>\n",
       "  </thead>\n",
       "  <tbody>\n",
       "    <tr>\n",
       "      <th>0</th>\n",
       "      <td>Super built-up  Area</td>\n",
       "      <td>Dec</td>\n",
       "      <td>Electronic City Phase II</td>\n",
       "      <td>2 BHK</td>\n",
       "      <td>1056.0</td>\n",
       "      <td>2.0</td>\n",
       "      <td>1.0</td>\n",
       "      <td>39.07</td>\n",
       "      <td>2</td>\n",
       "    </tr>\n",
       "    <tr>\n",
       "      <th>1</th>\n",
       "      <td>Plot  Area</td>\n",
       "      <td>Ready To Move</td>\n",
       "      <td>others</td>\n",
       "      <td>4 Bedroom</td>\n",
       "      <td>2600.0</td>\n",
       "      <td>5.0</td>\n",
       "      <td>3.0</td>\n",
       "      <td>120.00</td>\n",
       "      <td>4</td>\n",
       "    </tr>\n",
       "    <tr>\n",
       "      <th>2</th>\n",
       "      <td>Built-up  Area</td>\n",
       "      <td>Ready To Move</td>\n",
       "      <td>Uttarahalli</td>\n",
       "      <td>3 BHK</td>\n",
       "      <td>1440.0</td>\n",
       "      <td>2.0</td>\n",
       "      <td>3.0</td>\n",
       "      <td>62.00</td>\n",
       "      <td>3</td>\n",
       "    </tr>\n",
       "    <tr>\n",
       "      <th>3</th>\n",
       "      <td>Super built-up  Area</td>\n",
       "      <td>Ready To Move</td>\n",
       "      <td>Lingadheeranahalli</td>\n",
       "      <td>3 BHK</td>\n",
       "      <td>1521.0</td>\n",
       "      <td>3.0</td>\n",
       "      <td>1.0</td>\n",
       "      <td>95.00</td>\n",
       "      <td>3</td>\n",
       "    </tr>\n",
       "    <tr>\n",
       "      <th>4</th>\n",
       "      <td>Super built-up  Area</td>\n",
       "      <td>Ready To Move</td>\n",
       "      <td>Kothanur</td>\n",
       "      <td>2 BHK</td>\n",
       "      <td>1200.0</td>\n",
       "      <td>2.0</td>\n",
       "      <td>1.0</td>\n",
       "      <td>51.00</td>\n",
       "      <td>2</td>\n",
       "    </tr>\n",
       "  </tbody>\n",
       "</table>\n",
       "</div>"
      ],
      "text/plain": [
       "              area_type   availability                  location       size  \\\n",
       "0  Super built-up  Area            Dec  Electronic City Phase II      2 BHK   \n",
       "1            Plot  Area  Ready To Move                    others  4 Bedroom   \n",
       "2        Built-up  Area  Ready To Move               Uttarahalli      3 BHK   \n",
       "3  Super built-up  Area  Ready To Move        Lingadheeranahalli      3 BHK   \n",
       "4  Super built-up  Area  Ready To Move                  Kothanur      2 BHK   \n",
       "\n",
       "   total_sqft  bath  balcony   price  BHK  \n",
       "0      1056.0   2.0      1.0   39.07    2  \n",
       "1      2600.0   5.0      3.0  120.00    4  \n",
       "2      1440.0   2.0      3.0   62.00    3  \n",
       "3      1521.0   3.0      1.0   95.00    3  \n",
       "4      1200.0   2.0      1.0   51.00    2  "
      ]
     },
     "execution_count": 95,
     "metadata": {},
     "output_type": "execute_result"
    }
   ],
   "source": [
    "df.head()"
   ]
  },
  {
   "cell_type": "code",
   "execution_count": null,
   "id": "9b3183e9-81b5-4bab-a4e8-77ba4b632f36",
   "metadata": {},
   "outputs": [],
   "source": [
    "# we have to delet the columns that are not usefull for us [area_type\tavailability\tlocation\tsize]"
   ]
  },
  {
   "cell_type": "code",
   "execution_count": null,
   "id": "f99362ce-2203-4a24-8ecc-d5b94fae15da",
   "metadata": {},
   "outputs": [],
   "source": []
  },
  {
   "cell_type": "code",
   "execution_count": null,
   "id": "205f3b38-e69d-4625-a9b5-a022f3a5b6f2",
   "metadata": {},
   "outputs": [],
   "source": []
  },
  {
   "cell_type": "code",
   "execution_count": null,
   "id": "78748c7b-5950-4f5c-8780-26313bbea156",
   "metadata": {},
   "outputs": [],
   "source": []
  },
  {
   "cell_type": "code",
   "execution_count": null,
   "id": "2c41efbd-6943-45d0-a2c2-ff73eb1c17b2",
   "metadata": {},
   "outputs": [],
   "source": []
  },
  {
   "cell_type": "code",
   "execution_count": null,
   "id": "eea7d5b4-dc69-45ca-9057-e467b5a9bb1f",
   "metadata": {},
   "outputs": [],
   "source": []
  },
  {
   "cell_type": "code",
   "execution_count": null,
   "id": "567654ca-29a1-45f7-b1e2-0a93b2cc299c",
   "metadata": {},
   "outputs": [],
   "source": []
  },
  {
   "cell_type": "code",
   "execution_count": null,
   "id": "fcc341e3-95b3-44b8-921e-cc92938faef2",
   "metadata": {},
   "outputs": [],
   "source": []
  },
  {
   "cell_type": "code",
   "execution_count": null,
   "id": "e9e3e567-0ca5-4265-993c-5538edce0af4",
   "metadata": {},
   "outputs": [],
   "source": []
  },
  {
   "cell_type": "code",
   "execution_count": null,
   "id": "8bc5b5cd-d82e-4ff7-a424-a24c5af6e952",
   "metadata": {},
   "outputs": [],
   "source": []
  },
  {
   "cell_type": "code",
   "execution_count": null,
   "id": "69fd7c04-2ecf-4de7-a384-c25e5a5c5c35",
   "metadata": {},
   "outputs": [],
   "source": []
  }
 ],
 "metadata": {
  "kernelspec": {
   "display_name": "Python 3 (ipykernel)",
   "language": "python",
   "name": "python3"
  },
  "language_info": {
   "codemirror_mode": {
    "name": "ipython",
    "version": 3
   },
   "file_extension": ".py",
   "mimetype": "text/x-python",
   "name": "python",
   "nbconvert_exporter": "python",
   "pygments_lexer": "ipython3",
   "version": "3.12.4"
  },
  "widgets": {
   "application/vnd.jupyter.widget-state+json": {
    "state": {},
    "version_major": 2,
    "version_minor": 0
   }
  }
 },
 "nbformat": 4,
 "nbformat_minor": 5
}
